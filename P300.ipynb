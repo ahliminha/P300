{
  "nbformat": 4,
  "nbformat_minor": 0,
  "metadata": {
    "colab": {
      "name": "P300.ipynb",
      "provenance": [],
      "collapsed_sections": [],
      "machine_shape": "hm",
      "include_colab_link": true
    },
    "kernelspec": {
      "name": "python3",
      "display_name": "Python 3"
    }
  },
  "cells": [
    {
      "cell_type": "markdown",
      "metadata": {
        "id": "view-in-github",
        "colab_type": "text"
      },
      "source": [
        "<a href=\"https://colab.research.google.com/github/ahliminha/P300/blob/master/P300.ipynb\" target=\"_parent\"><img src=\"https://colab.research.google.com/assets/colab-badge.svg\" alt=\"Open In Colab\"/></a>"
      ]
    },
    {
      "cell_type": "code",
      "metadata": {
        "id": "XbWOxk2p8oao",
        "colab_type": "code",
        "outputId": "13e6a258-750e-488a-ff70-3954fbcdf644",
        "colab": {
          "base_uri": "https://localhost:8080/",
          "height": 36
        }
      },
      "source": [
        "!pip3 install mat4py"
      ],
      "execution_count": 121,
      "outputs": [
        {
          "output_type": "stream",
          "text": [
            "Requirement already satisfied: mat4py in /usr/local/lib/python3.6/dist-packages (0.4.3)\n"
          ],
          "name": "stdout"
        }
      ]
    },
    {
      "cell_type": "code",
      "metadata": {
        "id": "_lCmbMGYQtcd",
        "colab_type": "code",
        "outputId": "0fd1de2e-39f5-4490-ef14-98299e57c398",
        "colab": {
          "base_uri": "https://localhost:8080/",
          "height": 36
        }
      },
      "source": [
        "from google.colab import drive\n",
        "drive.mount('/content/drive')"
      ],
      "execution_count": 122,
      "outputs": [
        {
          "output_type": "stream",
          "text": [
            "Drive already mounted at /content/drive; to attempt to forcibly remount, call drive.mount(\"/content/drive\", force_remount=True).\n"
          ],
          "name": "stdout"
        }
      ]
    },
    {
      "cell_type": "code",
      "metadata": {
        "id": "T_UpFDN59K9E",
        "colab_type": "code",
        "colab": {}
      },
      "source": [
        "import sklearn as sk\n",
        "import pandas as pd\n",
        "import numpy as np\n",
        "import matplotlib.pyplot as plt \n",
        "import scipy.io as sio\n",
        "from mat4py import loadmat \n",
        "from keras.utils import to_categorical\n",
        "np.random.seed(816)"
      ],
      "execution_count": 0,
      "outputs": []
    },
    {
      "cell_type": "code",
      "metadata": {
        "id": "L6ykl3cYdv-K",
        "colab_type": "code",
        "colab": {}
      },
      "source": [
        "import glob"
      ],
      "execution_count": 0,
      "outputs": []
    },
    {
      "cell_type": "code",
      "metadata": {
        "id": "22_XYGiufvOH",
        "colab_type": "code",
        "colab": {}
      },
      "source": [
        "folder = '/content/drive/My Drive/IC/*.mat'\n",
        "files = glob.glob(folder)\n",
        "files.pop(0) #drop the data badly structured\n",
        "test_file = files.pop(0) #last subject for testing the network"
      ],
      "execution_count": 0,
      "outputs": []
    },
    {
      "cell_type": "code",
      "metadata": {
        "id": "9AVdG8lY171G",
        "colab_type": "code",
        "outputId": "ad9643dc-354d-4b37-f0d1-480b42e37104",
        "colab": {
          "base_uri": "https://localhost:8080/",
          "height": 36
        }
      },
      "source": [
        "print(files)"
      ],
      "execution_count": 126,
      "outputs": [
        {
          "output_type": "stream",
          "text": [
            "['/content/drive/My Drive/IC/P300S03.mat', '/content/drive/My Drive/IC/P300S04.mat', '/content/drive/My Drive/IC/P300S05.mat', '/content/drive/My Drive/IC/P300S06.mat', '/content/drive/My Drive/IC/P300S07.mat', '/content/drive/My Drive/IC/P300S08.mat']\n"
          ],
          "name": "stdout"
        }
      ]
    },
    {
      "cell_type": "code",
      "metadata": {
        "id": "uWlYJ89j6qEO",
        "colab_type": "code",
        "colab": {}
      },
      "source": [
        "from scipy.signal import butter, lfilter, freqz\n",
        "\n",
        "def butter_lowpass(cutoff, fs, order=5):\n",
        "    nyq = 0.5 * fs\n",
        "    normal_cutoff = cutoff / nyq\n",
        "    b, a = butter(order, normal_cutoff, btype='low', analog=False)\n",
        "    return b, a\n",
        "\n",
        "def butter_lowpass_filter(data, cutoff, fs, order=5):\n",
        "    b, a = butter_lowpass(cutoff, fs, order=order)\n",
        "    y = lfilter(b, a, data)\n",
        "    return y\n",
        "\n",
        "\n",
        "# Filter requirements.\n",
        "order = 6\n",
        "fs = 24.0       # sample rate, Hz\n",
        "cutoff = 1.5  # desired cutoff frequency of the filter, Hz\n",
        "\n",
        "# Get the filter coefficients so we can check its frequency response.\n",
        "b, a = butter_lowpass(cutoff, fs, order)"
      ],
      "execution_count": 0,
      "outputs": []
    },
    {
      "cell_type": "code",
      "metadata": {
        "id": "JqXJ_anMgpV4",
        "colab_type": "code",
        "colab": {}
      },
      "source": [
        "def prepare_data(file):\n",
        "  allX = []\n",
        "  allY = []\n",
        "  allT = []\n",
        "  allF = []\n",
        "  raw_data = loadmat(file)\n",
        "  useful_data = raw_data['data'].copy()\n",
        "  X = useful_data['X']\n",
        "  Y = useful_data['y']\n",
        "  T = useful_data['trial']\n",
        "  F = useful_data['flash']\n",
        "  # X_mean = np.mean(X, axis=1)\n",
        "  X_filtered = butter_lowpass_filter(X, cutoff, fs, order)\n",
        "  \n",
        "  return X_filtered, Y, T, F"
      ],
      "execution_count": 0,
      "outputs": []
    },
    {
      "cell_type": "code",
      "metadata": {
        "id": "6vP5HdmNvvy1",
        "colab_type": "code",
        "colab": {}
      },
      "source": [
        "def normalized(vec):\n",
        "  norm_vec = (vec - vec.min(axis=1, keepdims=True))/vec.ptp(axis=1, keepdims=True)\n",
        "  return norm_vec"
      ],
      "execution_count": 0,
      "outputs": []
    },
    {
      "cell_type": "code",
      "metadata": {
        "id": "hHhnXB_Xo036",
        "colab_type": "code",
        "colab": {}
      },
      "source": [
        "def clean_data(X, Y, flash):\n",
        "  \n",
        "  X_samples = np.array([np.array(X[i[0]:i[0]+300]) for i in flash] )\n",
        "  column    = [i[2] for i in flash]\n",
        "  label     = [i[3] - 1 for i in flash]\n",
        "  \n",
        "  LIMIT = 4080 #the last trial is incomplete\n",
        "  X_selected = np.array(X_samples[:LIMIT])\n",
        "  col_selected = np.array(column[:LIMIT])\n",
        "  label_selected = np.array(label[:LIMIT])\n",
        "\n",
        "  y = np.array(to_categorical(label_selected))\n",
        "\n",
        "  false_idx = [k for k, i in enumerate(y) if i[0] == 1]\n",
        "  true_idx  = [k for k, i in enumerate(y) if i[0] == 0]\n",
        "\n",
        "  falseX = X_selected[false_idx]\n",
        "  falsey = y[false_idx]\n",
        "\n",
        "  trueX  = X_selected[true_idx]  \n",
        "  truey  = y[true_idx]\n",
        "  # proportional data to avoid greedy cost funtion\n",
        "\n",
        "  proportionalX = falseX[:int(len(trueX))]\n",
        "  proportionaly = falsey[:int(len(truey))]\n",
        "\n",
        "  finalX = np.concatenate((trueX, proportionalX))\n",
        "  finaly = np.concatenate((truey, proportionaly))\n",
        "\n",
        "  X_timeseries = np.vstack(finalX)\n",
        "  X_letters = X_timeseries.reshape(34,40,300,8)\n",
        "  y_letters = finaly.reshape(34,40,2)\n",
        "  cleaned_X = np.vstack(X_letters)\n",
        "  cleaned_Y = np.vstack(y_letters)\n",
        "  \n",
        "  return cleaned_X, cleaned_Y"
      ],
      "execution_count": 0,
      "outputs": []
    },
    {
      "cell_type": "code",
      "metadata": {
        "id": "EnJ18aGK4S9y",
        "colab_type": "code",
        "outputId": "9addb51c-0d7e-4b00-8d8c-f2d9d672a17b",
        "colab": {
          "base_uri": "https://localhost:8080/",
          "height": 501
        }
      },
      "source": [
        "import tensorflow as tf\n",
        "\n",
        "from tensorflow import keras\n",
        "tf.keras.backend.clear_session()  # For easy reset of notebook state.\n",
        "\n",
        "from tensorflow.keras import layers\n",
        "\n",
        "input_layer = keras.Input(shape = (300,8,1), name='main_input')\n",
        "#lstm  = layers.Bidirectional(layers.LSTM(64, return_sequences=True))\n",
        "#lstm1 = lstm(input_layer)\n",
        "x     = layers.Conv2D(16, 8, padding='same', activation='relu')(input_layer)\n",
        "x     = layers.Conv2D(32, 6, padding='same', activation='relu')(x)\n",
        "x     = layers.Conv2D(8, 4, padding='same', activation='relu')(x)\n",
        "x     = layers.Conv2D(4, 2, padding='same', activation='relu')(x)\n",
        "x     = layers.GlobalAveragePooling2D()(x)\n",
        "x     = layers.Dense(8)(x)\n",
        "x     = layers.Dense(64)(x)\n",
        "output = layers.Dense(2, activation='softmax')(x)\n",
        "\n",
        "model = keras.Model(inputs=input_layer, outputs=output)\n",
        "\n",
        "model.summary()"
      ],
      "execution_count": 155,
      "outputs": [
        {
          "output_type": "stream",
          "text": [
            "Model: \"model\"\n",
            "_________________________________________________________________\n",
            "Layer (type)                 Output Shape              Param #   \n",
            "=================================================================\n",
            "main_input (InputLayer)      [(None, 300, 8, 1)]       0         \n",
            "_________________________________________________________________\n",
            "conv2d (Conv2D)              (None, 300, 8, 16)        1040      \n",
            "_________________________________________________________________\n",
            "conv2d_1 (Conv2D)            (None, 300, 8, 32)        18464     \n",
            "_________________________________________________________________\n",
            "conv2d_2 (Conv2D)            (None, 300, 8, 8)         4104      \n",
            "_________________________________________________________________\n",
            "conv2d_3 (Conv2D)            (None, 300, 8, 4)         132       \n",
            "_________________________________________________________________\n",
            "global_average_pooling2d (Gl (None, 4)                 0         \n",
            "_________________________________________________________________\n",
            "dense (Dense)                (None, 8)                 40        \n",
            "_________________________________________________________________\n",
            "dense_1 (Dense)              (None, 64)                576       \n",
            "_________________________________________________________________\n",
            "dense_2 (Dense)              (None, 2)                 130       \n",
            "=================================================================\n",
            "Total params: 24,486\n",
            "Trainable params: 24,486\n",
            "Non-trainable params: 0\n",
            "_________________________________________________________________\n"
          ],
          "name": "stdout"
        }
      ]
    },
    {
      "cell_type": "code",
      "metadata": {
        "id": "kIkzpSI14cMV",
        "colab_type": "code",
        "colab": {}
      },
      "source": [
        "#compiling the model\n",
        "opt = keras.optimizers.Adam(lr=0.001, beta_1=0.99, beta_2=0.9, amsgrad=True)\n",
        "model.compile(optimizer=opt,\n",
        "              loss='binary_crossentropy',\n",
        "              metrics=['accuracy'])\n",
        "\n"
      ],
      "execution_count": 0,
      "outputs": []
    },
    {
      "cell_type": "code",
      "metadata": {
        "id": "iUJPHSyp3sl3",
        "colab_type": "code",
        "colab": {}
      },
      "source": [
        "from sklearn.model_selection import train_test_split\n",
        "for file in files:\n",
        "  X, Y, Trials, Flash = prepare_data(file)\n",
        "  X_clean, y_clean = clean_data(X, Y, Flash)\n",
        "  X_train, X_valid, y_train, y_valid = train_test_split(X_clean, y_clean, test_size=0.1, random_state=816)\n",
        "  history = model.fit(X_train, y_train, validation_data=(X_valid, y_valid), batch_size=10, epochs=10, verbose=0)\n",
        "  "
      ],
      "execution_count": 0,
      "outputs": []
    },
    {
      "cell_type": "code",
      "metadata": {
        "id": "Xzq9hShpU4yI",
        "colab_type": "code",
        "outputId": "dc0ef3b7-2dba-44ff-f080-4af0f2edc005",
        "colab": {
          "base_uri": "https://localhost:8080/",
          "height": 762
        }
      },
      "source": [
        "X, Y, Trials, Flash = prepare_data(test_file)\n",
        "X_clean, y_clean = clean_data(X, Y, Flash)\n",
        "X_train, X_test, y_train, y_test = train_test_split(X_clean, y_clean, test_size=0.1, random_state=816)\n",
        "pred = model.fit(X_train, y_train, batch_size=1, epochs=20)"
      ],
      "execution_count": 158,
      "outputs": [
        {
          "output_type": "stream",
          "text": [
            "Epoch 1/20\n",
            "1224/1224 [==============================] - 22s 18ms/step - loss: 0.6962 - accuracy: 0.5204\n",
            "Epoch 2/20\n",
            "1224/1224 [==============================] - 23s 18ms/step - loss: 0.6718 - accuracy: 0.5972\n",
            "Epoch 3/20\n",
            "1224/1224 [==============================] - 22s 18ms/step - loss: 0.6577 - accuracy: 0.6275\n",
            "Epoch 4/20\n",
            "1224/1224 [==============================] - 22s 18ms/step - loss: 0.6357 - accuracy: 0.6552\n",
            "Epoch 5/20\n",
            "1224/1224 [==============================] - 22s 18ms/step - loss: 0.6212 - accuracy: 0.6675\n",
            "Epoch 6/20\n",
            "1224/1224 [==============================] - 22s 18ms/step - loss: 0.5810 - accuracy: 0.7002\n",
            "Epoch 7/20\n",
            "1224/1224 [==============================] - 22s 18ms/step - loss: 0.5486 - accuracy: 0.7124\n",
            "Epoch 8/20\n",
            "1224/1224 [==============================] - 21s 18ms/step - loss: 0.5471 - accuracy: 0.7402\n",
            "Epoch 9/20\n",
            "1224/1224 [==============================] - 21s 17ms/step - loss: 0.5464 - accuracy: 0.7451\n",
            "Epoch 10/20\n",
            "1224/1224 [==============================] - 21s 17ms/step - loss: 0.5365 - accuracy: 0.7410\n",
            "Epoch 11/20\n",
            "1224/1224 [==============================] - 21s 17ms/step - loss: 0.5251 - accuracy: 0.7672\n",
            "Epoch 12/20\n",
            "1224/1224 [==============================] - 21s 17ms/step - loss: 0.5132 - accuracy: 0.7704\n",
            "Epoch 13/20\n",
            "1224/1224 [==============================] - 21s 17ms/step - loss: 0.5047 - accuracy: 0.7827\n",
            "Epoch 14/20\n",
            "1224/1224 [==============================] - 26s 21ms/step - loss: 0.5255 - accuracy: 0.7557\n",
            "Epoch 15/20\n",
            "1224/1224 [==============================] - 22s 18ms/step - loss: 0.4986 - accuracy: 0.7721\n",
            "Epoch 16/20\n",
            "1224/1224 [==============================] - 22s 18ms/step - loss: 0.5060 - accuracy: 0.7745\n",
            "Epoch 17/20\n",
            "1224/1224 [==============================] - 22s 18ms/step - loss: 0.4996 - accuracy: 0.7704\n",
            "Epoch 18/20\n",
            "1224/1224 [==============================] - 21s 17ms/step - loss: 0.4986 - accuracy: 0.7704\n",
            "Epoch 19/20\n",
            "1224/1224 [==============================] - 21s 17ms/step - loss: 0.5003 - accuracy: 0.7753\n",
            "Epoch 20/20\n",
            "1224/1224 [==============================] - 21s 17ms/step - loss: 0.4954 - accuracy: 0.7876\n"
          ],
          "name": "stdout"
        }
      ]
    },
    {
      "cell_type": "code",
      "metadata": {
        "id": "HOLJ_MP5V3Bd",
        "colab_type": "code",
        "outputId": "0576406e-4d27-4af0-c04a-c34e5d8b8c0e",
        "colab": {
          "base_uri": "https://localhost:8080/",
          "height": 36
        }
      },
      "source": [
        "score = model.evaluate(X_test, y_test)"
      ],
      "execution_count": 159,
      "outputs": [
        {
          "output_type": "stream",
          "text": [
            "5/5 [==============================] - 0s 51ms/step - loss: 0.5539 - accuracy: 0.6912\n"
          ],
          "name": "stdout"
        }
      ]
    },
    {
      "cell_type": "code",
      "metadata": {
        "id": "rFe0_IjBZXzR",
        "colab_type": "code",
        "colab": {}
      },
      "source": [
        "preds = model.predict(X_test)"
      ],
      "execution_count": 0,
      "outputs": []
    },
    {
      "cell_type": "code",
      "metadata": {
        "id": "iNS7uYNfd2qb",
        "colab_type": "code",
        "colab": {}
      },
      "source": [
        "from sklearn.metrics import confusion_matrix\n",
        "\n",
        "matrix = confusion_matrix(y_test.argmax(axis=1), preds.argmax(axis=1))"
      ],
      "execution_count": 0,
      "outputs": []
    },
    {
      "cell_type": "code",
      "metadata": {
        "id": "-JE-9G3ReFsh",
        "colab_type": "code",
        "colab": {}
      },
      "source": [
        "matrix_norm = np.zeros((2,2))\n",
        "for i in range(2):\n",
        "  matrix_norm[i] = matrix[i]/matrix[i].sum(axis=0)"
      ],
      "execution_count": 0,
      "outputs": []
    },
    {
      "cell_type": "code",
      "metadata": {
        "id": "45hXrN4HeJka",
        "colab_type": "code",
        "outputId": "8f7648a9-c66f-49bf-d9ff-2fb2b62ec53a",
        "colab": {
          "base_uri": "https://localhost:8080/",
          "height": 477
        }
      },
      "source": [
        "import seaborn as sns\n",
        "df_cm = pd.DataFrame(matrix_norm, columns=np.unique(y_test), index = np.unique(y_test))\n",
        "df_cm.index.name = 'Actual'\n",
        "df_cm.columns.name = 'Predicted'\n",
        "plt.figure(figsize = (10,7))\n",
        "sns.set(font_scale=1.4)#for label size\n",
        "sns.heatmap(df_cm, cmap=\"Blues\", annot=True,annot_kws={\"size\": 16})# font size"
      ],
      "execution_count": 163,
      "outputs": [
        {
          "output_type": "execute_result",
          "data": {
            "text/plain": [
              "<matplotlib.axes._subplots.AxesSubplot at 0x7f84a87e3a90>"
            ]
          },
          "metadata": {
            "tags": []
          },
          "execution_count": 163
        },
        {
          "output_type": "display_data",
          "data": {
            "image/png": "[encoded data removed]",
            "text/plain": [
              "<Figure size 720x504 with 2 Axes>"
            ]
          },
          "metadata": {
            "tags": []
          }
        }
      ]
    },
    {
      "cell_type": "code",
      "metadata": {
        "id": "9cSpTSaHfKx4",
        "colab_type": "code",
        "colab": {}
      },
      "source": [
        ""
      ],
      "execution_count": 0,
      "outputs": []
    }
  ]
}