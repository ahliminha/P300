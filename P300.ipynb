{
  "nbformat": 4,
  "nbformat_minor": 0,
  "metadata": {
    "colab": {
      "name": "P300.ipynb",
      "provenance": [],
      "collapsed_sections": [],
      "machine_shape": "hm",
      "include_colab_link": true
    },
    "kernelspec": {
      "name": "python3",
      "display_name": "Python 3"
    }
  },
  "cells": [
    {
      "cell_type": "markdown",
      "metadata": {
        "id": "view-in-github",
        "colab_type": "text"
      },
      "source": [
        "<a href=\"https://colab.research.google.com/github/ahliminha/P300/blob/master/P300.ipynb\" target=\"_parent\"><img src=\"https://colab.research.google.com/assets/colab-badge.svg\" alt=\"Open In Colab\"/></a>"
      ]
    },
    {
      "cell_type": "code",
      "metadata": {
        "id": "XbWOxk2p8oao",
        "colab_type": "code",
        "outputId": "13e6a258-750e-488a-ff70-3954fbcdf644",
        "colab": {
          "base_uri": "https://localhost:8080/",
          "height": 36
        }
      },
      "source": [
        "!pip3 install mat4py"
      ],
      "execution_count": 121,
      "outputs": [
        {
          "output_type": "stream",
          "text": [
            "Requirement already satisfied: mat4py in /usr/local/lib/python3.6/dist-packages (0.4.3)\n"
          ],
          "name": "stdout"
        }
      ]
    },
    {
      "cell_type": "code",
      "metadata": {
        "id": "_lCmbMGYQtcd",
        "colab_type": "code",
        "outputId": "0fd1de2e-39f5-4490-ef14-98299e57c398",
        "colab": {
          "base_uri": "https://localhost:8080/",
          "height": 36
        }
      },
      "source": [
        "from google.colab import drive\n",
        "drive.mount('/content/drive')"
      ],
      "execution_count": 122,
      "outputs": [
        {
          "output_type": "stream",
          "text": [
            "Drive already mounted at /content/drive; to attempt to forcibly remount, call drive.mount(\"/content/drive\", force_remount=True).\n"
          ],
          "name": "stdout"
        }
      ]
    },
    {
      "cell_type": "code",
      "metadata": {
        "id": "T_UpFDN59K9E",
        "colab_type": "code",
        "colab": {}
      },
      "source": [
        "import sklearn as sk\n",
        "import pandas as pd\n",
        "import numpy as np\n",
        "import matplotlib.pyplot as plt \n",
        "import scipy.io as sio\n",
        "from mat4py import loadmat \n",
        "from keras.utils import to_categorical\n",
        "np.random.seed(816)"
      ],
      "execution_count": 0,
      "outputs": []
    },
    {
      "cell_type": "code",
      "metadata": {
        "id": "L6ykl3cYdv-K",
        "colab_type": "code",
        "colab": {}
      },
      "source": [
        "import glob"
      ],
      "execution_count": 0,
      "outputs": []
    },
    {
      "cell_type": "code",
      "metadata": {
        "id": "22_XYGiufvOH",
        "colab_type": "code",
        "colab": {}
      },
      "source": [
        "folder = '/content/drive/My Drive/IC/*.mat'\n",
        "files = glob.glob(folder)\n",
        "files.pop(0) #drop the data badly structured\n",
        "test_file = files.pop(0) #last subject for testing the network"
      ],
      "execution_count": 0,
      "outputs": []
    },
    {
      "cell_type": "code",
      "metadata": {
        "id": "9AVdG8lY171G",
        "colab_type": "code",
        "outputId": "ad9643dc-354d-4b37-f0d1-480b42e37104",
        "colab": {
          "base_uri": "https://localhost:8080/",
          "height": 36
        }
      },
      "source": [
        "print(files)"
      ],
      "execution_count": 126,
      "outputs": [
        {
          "output_type": "stream",
          "text": [
            "['/content/drive/My Drive/IC/P300S03.mat', '/content/drive/My Drive/IC/P300S04.mat', '/content/drive/My Drive/IC/P300S05.mat', '/content/drive/My Drive/IC/P300S06.mat', '/content/drive/My Drive/IC/P300S07.mat', '/content/drive/My Drive/IC/P300S08.mat']\n"
          ],
          "name": "stdout"
        }
      ]
    },
    {
      "cell_type": "code",
      "metadata": {
        "id": "uWlYJ89j6qEO",
        "colab_type": "code",
        "colab": {}
      },
      "source": [
        "from scipy.signal import butter, lfilter, freqz\n",
        "\n",
        "def butter_lowpass(cutoff, fs, order=5):\n",
        "    nyq = 0.5 * fs\n",
        "    normal_cutoff = cutoff / nyq\n",
        "    b, a = butter(order, normal_cutoff, btype='low', analog=False)\n",
        "    return b, a\n",
        "\n",
        "def butter_lowpass_filter(data, cutoff, fs, order=5):\n",
        "    b, a = butter_lowpass(cutoff, fs, order=order)\n",
        "    y = lfilter(b, a, data)\n",
        "    return y\n",
        "\n",
        "\n",
        "# Filter requirements.\n",
        "order = 6\n",
        "fs = 24.0       # sample rate, Hz\n",
        "cutoff = 1.5  # desired cutoff frequency of the filter, Hz\n",
        "\n",
        "# Get the filter coefficients so we can check its frequency response.\n",
        "b, a = butter_lowpass(cutoff, fs, order)"
      ],
      "execution_count": 0,
      "outputs": []
    },
    {
      "cell_type": "code",
      "metadata": {
        "id": "JqXJ_anMgpV4",
        "colab_type": "code",
        "colab": {}
      },
      "source": [
        "def prepare_data(file):\n",
        "  allX = []\n",
        "  allY = []\n",
        "  allT = []\n",
        "  allF = []\n",
        "  raw_data = loadmat(file)\n",
        "  useful_data = raw_data['data'].copy()\n",
        "  X = useful_data['X']\n",
        "  Y = useful_data['y']\n",
        "  T = useful_data['trial']\n",
        "  F = useful_data['flash']\n",
        "  # X_mean = np.mean(X, axis=1)\n",
        "  X_filtered = butter_lowpass_filter(X, cutoff, fs, order)\n",
        "  \n",
        "  return X_filtered, Y, T, F"
      ],
      "execution_count": 0,
      "outputs": []
    },
    {
      "cell_type": "code",
      "metadata": {
        "id": "6vP5HdmNvvy1",
        "colab_type": "code",
        "colab": {}
      },
      "source": [
        "def normalized(vec):\n",
        "  norm_vec = (vec - vec.min(axis=1, keepdims=True))/vec.ptp(axis=1, keepdims=True)\n",
        "  return norm_vec"
      ],
      "execution_count": 0,
      "outputs": []
    },
    {
      "cell_type": "code",
      "metadata": {
        "id": "hHhnXB_Xo036",
        "colab_type": "code",
        "colab": {}
      },
      "source": [
        "def clean_data(X, Y, flash):\n",
        "  \n",
        "  X_samples = np.array([np.array(X[i[0]:i[0]+300]) for i in flash] )\n",
        "  column    = [i[2] for i in flash]\n",
        "  label     = [i[3] - 1 for i in flash]\n",
        "  \n",
        "  LIMIT = 4080 #the last trial is incomplete\n",
        "  X_selected = np.array(X_samples[:LIMIT])\n",
        "  col_selected = np.array(column[:LIMIT])\n",
        "  label_selected = np.array(label[:LIMIT])\n",
        "\n",
        "  y = np.array(to_categorical(label_selected))\n",
        "\n",
        "  false_idx = [k for k, i in enumerate(y) if i[0] == 1]\n",
        "  true_idx  = [k for k, i in enumerate(y) if i[0] == 0]\n",
        "\n",
        "  falseX = X_selected[false_idx]\n",
        "  falsey = y[false_idx]\n",
        "\n",
        "  trueX  = X_selected[true_idx]  \n",
        "  truey  = y[true_idx]\n",
        "  # proportional data to avoid greedy cost funtion\n",
        "\n",
        "  proportionalX = falseX[:int(len(trueX))]\n",
        "  proportionaly = falsey[:int(len(truey))]\n",
        "\n",
        "  finalX = np.concatenate((trueX, proportionalX))\n",
        "  finaly = np.concatenate((truey, proportionaly))\n",
        "\n",
        "  X_timeseries = np.vstack(finalX)\n",
        "  X_letters = X_timeseries.reshape(34,40,300,8)\n",
        "  y_letters = finaly.reshape(34,40,2)\n",
        "  cleaned_X = np.vstack(X_letters)\n",
        "  cleaned_Y = np.vstack(y_letters)\n",
        "  \n",
        "  return cleaned_X, cleaned_Y"
      ],
      "execution_count": 0,
      "outputs": []
    },
    {
      "cell_type": "code",
      "metadata": {
        "id": "EnJ18aGK4S9y",
        "colab_type": "code",
        "outputId": "42978b52-c6a2-4d6e-b715-89ec44b34af7",
        "colab": {
          "base_uri": "https://localhost:8080/",
          "height": 427
        }
      },
      "source": [
        "import tensorflow as tf\n",
        "\n",
        "from tensorflow import keras\n",
        "tf.keras.backend.clear_session()  # For easy reset of notebook state.\n",
        "\n",
        "from tensorflow.keras import layers\n",
        "\n",
        "input_layer = keras.Input(shape = (300,8,1), name='main_input')\n",
        "#lstm  = layers.Bidirectional(layers.LSTM(64, return_sequences=True))\n",
        "#lstm1 = lstm(input_layer)\n",
        "x     = layers.Conv2D(16, 3, activation='relu')(input_layer)\n",
        "x     = layers.Conv2D(32, 3, activation='relu')(x)\n",
        "x     = layers.GlobalAveragePooling2D()(x)\n",
        "x     = layers.Dense(8)(x)\n",
        "x     = layers.Dense(64)(x)\n",
        "output = layers.Dense(2, activation='softmax')(x)\n",
        "\n",
        "model = keras.Model(inputs=input_layer, outputs=output)\n",
        "\n",
        "model.summary()"
      ],
      "execution_count": 131,
      "outputs": [
        {
          "output_type": "stream",
          "text": [
            "Model: \"model\"\n",
            "_________________________________________________________________\n",
            "Layer (type)                 Output Shape              Param #   \n",
            "=================================================================\n",
            "main_input (InputLayer)      [(None, 300, 8, 1)]       0         \n",
            "_________________________________________________________________\n",
            "conv2d (Conv2D)              (None, 298, 6, 16)        160       \n",
            "_________________________________________________________________\n",
            "conv2d_1 (Conv2D)            (None, 296, 4, 32)        4640      \n",
            "_________________________________________________________________\n",
            "global_average_pooling2d (Gl (None, 32)                0         \n",
            "_________________________________________________________________\n",
            "dense (Dense)                (None, 8)                 264       \n",
            "_________________________________________________________________\n",
            "dense_1 (Dense)              (None, 64)                576       \n",
            "_________________________________________________________________\n",
            "dense_2 (Dense)              (None, 2)                 130       \n",
            "=================================================================\n",
            "Total params: 5,770\n",
            "Trainable params: 5,770\n",
            "Non-trainable params: 0\n",
            "_________________________________________________________________\n"
          ],
          "name": "stdout"
        }
      ]
    },
    {
      "cell_type": "code",
      "metadata": {
        "id": "kIkzpSI14cMV",
        "colab_type": "code",
        "colab": {}
      },
      "source": [
        "#compiling the model\n",
        "opt = keras.optimizers.Adam(lr=0.001, beta_1=0.99, beta_2=0.9, amsgrad=True)\n",
        "model.compile(optimizer=opt,\n",
        "              loss='binary_crossentropy',\n",
        "              metrics=['accuracy'])\n",
        "\n"
      ],
      "execution_count": 0,
      "outputs": []
    },
    {
      "cell_type": "code",
      "metadata": {
        "id": "iUJPHSyp3sl3",
        "colab_type": "code",
        "colab": {}
      },
      "source": [
        "from sklearn.model_selection import train_test_split\n",
        "for file in files:\n",
        "  X, Y, Trials, Flash = prepare_data(file)\n",
        "  X_clean, y_clean = clean_data(X, Y, Flash)\n",
        "  X_train, X_valid, y_train, y_valid = train_test_split(X_clean, y_clean, test_size=0.1, random_state=816)\n",
        "  history = model.fit(X_train, y_train, validation_data=(X_valid, y_valid), batch_size=10, epochs=20, verbose=0)\n",
        "  "
      ],
      "execution_count": 0,
      "outputs": []
    },
    {
      "cell_type": "code",
      "metadata": {
        "id": "Xzq9hShpU4yI",
        "colab_type": "code",
        "outputId": "1cbc3ed9-38c7-40e1-bcfe-5dd0f3cbffb5",
        "colab": {
          "base_uri": "https://localhost:8080/",
          "height": 762
        }
      },
      "source": [
        "X, Y, Trials, Flash = prepare_data(test_file)\n",
        "X_clean, y_clean = clean_data(X, Y, Flash)\n",
        "X_train, X_test, y_train, y_test = train_test_split(X_clean, y_clean, test_size=0.1, random_state=816)\n",
        "pred = model.fit(X_train, y_train, batch_size=1, epochs=20)"
      ],
      "execution_count": 134,
      "outputs": [
        {
          "output_type": "stream",
          "text": [
            "Epoch 1/20\n",
            "1224/1224 [==============================] - 4s 4ms/step - loss: 0.6982 - accuracy: 0.5188\n",
            "Epoch 2/20\n",
            "1224/1224 [==============================] - 5s 4ms/step - loss: 0.6666 - accuracy: 0.6103\n",
            "Epoch 3/20\n",
            "1224/1224 [==============================] - 6s 5ms/step - loss: 0.6510 - accuracy: 0.6299\n",
            "Epoch 4/20\n",
            "1224/1224 [==============================] - 4s 4ms/step - loss: 0.6334 - accuracy: 0.6642\n",
            "Epoch 5/20\n",
            "1224/1224 [==============================] - 4s 4ms/step - loss: 0.5924 - accuracy: 0.7059\n",
            "Epoch 6/20\n",
            "1224/1224 [==============================] - 4s 4ms/step - loss: 0.5766 - accuracy: 0.7149\n",
            "Epoch 7/20\n",
            "1224/1224 [==============================] - 4s 4ms/step - loss: 0.5754 - accuracy: 0.7181\n",
            "Epoch 8/20\n",
            "1224/1224 [==============================] - 4s 4ms/step - loss: 0.5590 - accuracy: 0.7467\n",
            "Epoch 9/20\n",
            "1224/1224 [==============================] - 4s 4ms/step - loss: 0.5546 - accuracy: 0.7214\n",
            "Epoch 10/20\n",
            "1224/1224 [==============================] - 4s 4ms/step - loss: 0.5521 - accuracy: 0.7386\n",
            "Epoch 11/20\n",
            "1224/1224 [==============================] - 5s 4ms/step - loss: 0.5326 - accuracy: 0.7467\n",
            "Epoch 12/20\n",
            "1224/1224 [==============================] - 5s 4ms/step - loss: 0.5284 - accuracy: 0.7655\n",
            "Epoch 13/20\n",
            "1224/1224 [==============================] - 5s 4ms/step - loss: 0.5486 - accuracy: 0.7484\n",
            "Epoch 14/20\n",
            "1224/1224 [==============================] - 4s 4ms/step - loss: 0.5315 - accuracy: 0.7508\n",
            "Epoch 15/20\n",
            "1224/1224 [==============================] - 4s 4ms/step - loss: 0.5316 - accuracy: 0.7663\n",
            "Epoch 16/20\n",
            "1224/1224 [==============================] - 4s 4ms/step - loss: 0.5359 - accuracy: 0.7435\n",
            "Epoch 17/20\n",
            "1224/1224 [==============================] - 4s 4ms/step - loss: 0.5252 - accuracy: 0.7639\n",
            "Epoch 18/20\n",
            "1224/1224 [==============================] - 4s 4ms/step - loss: 0.5188 - accuracy: 0.7614\n",
            "Epoch 19/20\n",
            "1224/1224 [==============================] - 4s 4ms/step - loss: 0.5504 - accuracy: 0.7426\n",
            "Epoch 20/20\n",
            "1224/1224 [==============================] - 4s 4ms/step - loss: 0.5240 - accuracy: 0.7590\n"
          ],
          "name": "stdout"
        }
      ]
    },
    {
      "cell_type": "code",
      "metadata": {
        "id": "HOLJ_MP5V3Bd",
        "colab_type": "code",
        "outputId": "01b3cd80-b72f-4a8f-ce02-fd3afbb601c2",
        "colab": {
          "base_uri": "https://localhost:8080/",
          "height": 36
        }
      },
      "source": [
        "score = model.evaluate(X_test, y_test)"
      ],
      "execution_count": 135,
      "outputs": [
        {
          "output_type": "stream",
          "text": [
            "5/5 [==============================] - 0s 7ms/step - loss: 0.5870 - accuracy: 0.7059\n"
          ],
          "name": "stdout"
        }
      ]
    },
    {
      "cell_type": "code",
      "metadata": {
        "id": "rFe0_IjBZXzR",
        "colab_type": "code",
        "colab": {}
      },
      "source": [
        "preds = model.predict(X_test)"
      ],
      "execution_count": 0,
      "outputs": []
    },
    {
      "cell_type": "code",
      "metadata": {
        "id": "iNS7uYNfd2qb",
        "colab_type": "code",
        "colab": {}
      },
      "source": [
        "from sklearn.metrics import confusion_matrix\n",
        "\n",
        "matrix = confusion_matrix(y_test.argmax(axis=1), preds.argmax(axis=1))"
      ],
      "execution_count": 0,
      "outputs": []
    },
    {
      "cell_type": "code",
      "metadata": {
        "id": "-JE-9G3ReFsh",
        "colab_type": "code",
        "colab": {}
      },
      "source": [
        "matrix_norm = np.zeros((2,2))\n",
        "for i in range(2):\n",
        "  matrix_norm[i] = matrix[i]/matrix[i].sum(axis=0)"
      ],
      "execution_count": 0,
      "outputs": []
    },
    {
      "cell_type": "code",
      "metadata": {
        "id": "45hXrN4HeJka",
        "colab_type": "code",
        "outputId": "1af3e975-b737-47ff-a4bc-d74938035595",
        "colab": {
          "base_uri": "https://localhost:8080/",
          "height": 477
        }
      },
      "source": [
        "import seaborn as sns\n",
        "df_cm = pd.DataFrame(matrix_norm, columns=np.unique(y_test), index = np.unique(y_test))\n",
        "df_cm.index.name = 'Actual'\n",
        "df_cm.columns.name = 'Predicted'\n",
        "plt.figure(figsize = (10,7))\n",
        "sns.set(font_scale=1.4)#for label size\n",
        "sns.heatmap(df_cm, cmap=\"Blues\", annot=True,annot_kws={\"size\": 16})# font size"
      ],
      "execution_count": 139,
      "outputs": [
        {
          "output_type": "execute_result",
          "data": {
            "text/plain": [
              "<matplotlib.axes._subplots.AxesSubplot at 0x7f849597b128>"
            ]
          },
          "metadata": {
            "tags": []
          },
          "execution_count": 139
        },
        {
          "output_type": "display_data",
          "data": {
            "image/png": "[encoded data removed]",
            "text/plain": [
              "<Figure size 720x504 with 2 Axes>"
            ]
          },
          "metadata": {
            "tags": []
          }
        }
      ]
    },
    {
      "cell_type": "code",
      "metadata": {
        "id": "9cSpTSaHfKx4",
        "colab_type": "code",
        "colab": {}
      },
      "source": [
        ""
      ],
      "execution_count": 0,
      "outputs": []
    }
  ]
}