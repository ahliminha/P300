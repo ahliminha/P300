{
  "nbformat": 4,
  "nbformat_minor": 0,
  "metadata": {
    "colab": {
      "name": "P300.ipynb",
      "provenance": [],
      "collapsed_sections": [],
      "machine_shape": "hm",
      "include_colab_link": true
    },
    "kernelspec": {
      "name": "python3",
      "display_name": "Python 3"
    }
  },
  "cells": [
    {
      "cell_type": "markdown",
      "metadata": {
        "id": "view-in-github",
        "colab_type": "text"
      },
      "source": [
        "<a href=\"https://colab.research.google.com/github/ahliminha/P300/blob/master/P300.ipynb\" target=\"_parent\"><img src=\"https://colab.research.google.com/assets/colab-badge.svg\" alt=\"Open In Colab\"/></a>"
      ]
    },
    {
      "cell_type": "code",
      "metadata": {
        "id": "XbWOxk2p8oao",
        "colab_type": "code",
        "outputId": "fbad5013-9159-4901-cb79-1c87ee8ea9ec",
        "colab": {
          "base_uri": "https://localhost:8080/",
          "height": 91
        }
      },
      "source": [
        "!pip3 install mat4py"
      ],
      "execution_count": 1,
      "outputs": [
        {
          "output_type": "stream",
          "text": [
            "Collecting mat4py\n",
            "  Downloading https://files.pythonhosted.org/packages/c7/02/a6855d4e61f7b6484535c1a2500c207bc0772e9c70ea6a3e30c553a6e3ef/mat4py-0.4.3-py2.py3-none-any.whl\n",
            "Installing collected packages: mat4py\n",
            "Successfully installed mat4py-0.4.3\n"
          ],
          "name": "stdout"
        }
      ]
    },
    {
      "cell_type": "code",
      "metadata": {
        "id": "_lCmbMGYQtcd",
        "colab_type": "code",
        "outputId": "9d4ef984-d1a0-4524-9750-ad000fead6c1",
        "colab": {
          "base_uri": "https://localhost:8080/",
          "height": 130
        }
      },
      "source": [
        "from google.colab import drive\n",
        "drive.mount('/content/drive')"
      ],
      "execution_count": 2,
      "outputs": [
        {
          "output_type": "stream",
          "text": [
            "Go to this URL in a browser: https://accounts.google.com/o/oauth2/auth?client_id=947318989803-6bn6qk8qdgf4n4g3pfee6491hc0brc4i.apps.googleusercontent.com&redirect_uri=urn%3aietf%3awg%3aoauth%3a2.0%3aoob&response_type=code&scope=email%20https%3a%2f%2fwww.googleapis.com%2fauth%2fdocs.test%20https%3a%2f%2fwww.googleapis.com%2fauth%2fdrive%20https%3a%2f%2fwww.googleapis.com%2fauth%2fdrive.photos.readonly%20https%3a%2f%2fwww.googleapis.com%2fauth%2fpeopleapi.readonly\n",
            "\n",
            "Enter your authorization code:\n",
            "··········\n",
            "Mounted at /content/drive\n"
          ],
          "name": "stdout"
        }
      ]
    },
    {
      "cell_type": "code",
      "metadata": {
        "id": "T_UpFDN59K9E",
        "colab_type": "code",
        "colab": {
          "base_uri": "https://localhost:8080/",
          "height": 36
        },
        "outputId": "2b941d1e-4a79-4a75-ae40-3e115869de40"
      },
      "source": [
        "import sklearn as sk\n",
        "import pandas as pd\n",
        "import numpy as np\n",
        "import matplotlib.pyplot as plt \n",
        "import scipy.io as sio\n",
        "from mat4py import loadmat \n",
        "from keras.utils import to_categorical\n",
        "np.random.seed(816)"
      ],
      "execution_count": 3,
      "outputs": [
        {
          "output_type": "stream",
          "text": [
            "Using TensorFlow backend.\n"
          ],
          "name": "stderr"
        }
      ]
    },
    {
      "cell_type": "code",
      "metadata": {
        "id": "L6ykl3cYdv-K",
        "colab_type": "code",
        "colab": {}
      },
      "source": [
        "import glob"
      ],
      "execution_count": 0,
      "outputs": []
    },
    {
      "cell_type": "code",
      "metadata": {
        "id": "22_XYGiufvOH",
        "colab_type": "code",
        "colab": {}
      },
      "source": [
        "folder = '/content/drive/My Drive/IC/*.mat'\n",
        "files = glob.glob(folder)\n",
        "files.pop(0)\n",
        "test_file = files.pop(0)"
      ],
      "execution_count": 0,
      "outputs": []
    },
    {
      "cell_type": "code",
      "metadata": {
        "id": "9AVdG8lY171G",
        "colab_type": "code",
        "outputId": "e9f48105-c116-405b-f363-faf2d02938ac",
        "colab": {
          "base_uri": "https://localhost:8080/",
          "height": 56
        }
      },
      "source": [
        "print(files)"
      ],
      "execution_count": 6,
      "outputs": [
        {
          "output_type": "stream",
          "text": [
            "['/content/drive/My Drive/IC/P300S02.mat', '/content/drive/My Drive/IC/P300S03.mat', '/content/drive/My Drive/IC/P300S04.mat', '/content/drive/My Drive/IC/P300S05.mat', '/content/drive/My Drive/IC/P300S06.mat', '/content/drive/My Drive/IC/P300S07.mat', '/content/drive/My Drive/IC/P300S08.mat']\n"
          ],
          "name": "stdout"
        }
      ]
    },
    {
      "cell_type": "code",
      "metadata": {
        "id": "uWlYJ89j6qEO",
        "colab_type": "code",
        "colab": {}
      },
      "source": [
        "from scipy.signal import butter, lfilter, freqz\n",
        "\n",
        "def butter_lowpass(cutoff, fs, order=5):\n",
        "    nyq = 0.5 * fs\n",
        "    normal_cutoff = cutoff / nyq\n",
        "    b, a = butter(order, normal_cutoff, btype='low', analog=False)\n",
        "    return b, a\n",
        "\n",
        "def butter_lowpass_filter(data, cutoff, fs, order=5):\n",
        "    b, a = butter_lowpass(cutoff, fs, order=order)\n",
        "    y = lfilter(b, a, data)\n",
        "    return y\n",
        "\n",
        "\n",
        "# Filter requirements.\n",
        "order = 6\n",
        "fs = 24.0       # sample rate, Hz\n",
        "cutoff = 1.5  # desired cutoff frequency of the filter, Hz\n",
        "\n",
        "# Get the filter coefficients so we can check its frequency response.\n",
        "b, a = butter_lowpass(cutoff, fs, order)"
      ],
      "execution_count": 0,
      "outputs": []
    },
    {
      "cell_type": "code",
      "metadata": {
        "id": "JqXJ_anMgpV4",
        "colab_type": "code",
        "colab": {}
      },
      "source": [
        "def prepare_data(file):\n",
        "  allX = []\n",
        "  allY = []\n",
        "  allT = []\n",
        "  allF = []\n",
        "  raw_data = loadmat(file)\n",
        "  useful_data = raw_data['data'].copy()\n",
        "  X = useful_data['X']\n",
        "  Y = useful_data['y']\n",
        "  T = useful_data['trial']\n",
        "  F = useful_data['flash']\n",
        "  #X_mean = np.mean(X, axis=1)\n",
        "  X_filtered = butter_lowpass_filter(X, cutoff, fs, order)\n",
        "  \n",
        "  return X_filtered, Y, T, F"
      ],
      "execution_count": 0,
      "outputs": []
    },
    {
      "cell_type": "code",
      "metadata": {
        "id": "6vP5HdmNvvy1",
        "colab_type": "code",
        "colab": {}
      },
      "source": [
        "def normalized(vec):\n",
        "  norm_vec = (vec - vec.min(axis=1, keepdims=True))/vec.ptp(axis=1, keepdims=True)\n",
        "  return norm_vec"
      ],
      "execution_count": 0,
      "outputs": []
    },
    {
      "cell_type": "code",
      "metadata": {
        "id": "hHhnXB_Xo036",
        "colab_type": "code",
        "colab": {}
      },
      "source": [
        "def clean_data(X, Y, flash):\n",
        "  \n",
        "  X_samples = np.array([np.array(X[i[0]:i[0]+300]) for i in flash] )\n",
        "  column    = [i[2] for i in flash]\n",
        "  label     = [i[3] - 1 for i in flash]\n",
        "  \n",
        "  LIMIT = 4080\n",
        "  X_selected = np.array(X_samples[:LIMIT])\n",
        "  col_selected = np.array(column[:LIMIT])\n",
        "  label_selected = np.array(label[:LIMIT])\n",
        "\n",
        "  y = np.array(to_categorical(label_selected))\n",
        "\n",
        "  false_idx = [k for k, i in enumerate(y) if i[0] == 1]\n",
        "  true_idx  = [k for k, i in enumerate(y) if i[0] == 0]\n",
        "\n",
        "  falseX = X_selected[false_idx]\n",
        "  falsey = y[false_idx]\n",
        "\n",
        "  trueX  = X_selected[true_idx]  \n",
        "  truey  = y[true_idx]\n",
        "\n",
        "  print('len of falseX is', len(falseX),'len of falsey is', len(falsey) )\n",
        "  print('len of trueX is', len(trueX),'len of truey is', len(truey) )\n",
        "\n",
        "  proportionalX = falseX[:int(len(trueX))]\n",
        "  proportionaly = falsey[:int(len(truey))]\n",
        "\n",
        "  finalX = np.concatenate((trueX, proportionalX))\n",
        "  finaly = np.concatenate((truey, proportionaly))\n",
        "  \n",
        "  print('shape of finalX[0] is', finalX[0].shape,'shape of finaly is', finaly.shape )\n",
        "\n",
        "  X_timeseries = np.vstack(finalX)\n",
        "  X_letters = X_timeseries.reshape(34,40,300,8)\n",
        "  y_letters = finaly.reshape(34,40,2)\n",
        "  cleaned_X = np.vstack(X_letters)\n",
        "  cleaned_Y = np.vstack(y_letters)\n",
        "  \n",
        "  return cleaned_X, cleaned_Y"
      ],
      "execution_count": 0,
      "outputs": []
    },
    {
      "cell_type": "code",
      "metadata": {
        "id": "EnJ18aGK4S9y",
        "colab_type": "code",
        "outputId": "72a56753-09e4-4bf8-8fdb-2771462d7872",
        "colab": {
          "base_uri": "https://localhost:8080/",
          "height": 427
        }
      },
      "source": [
        "import tensorflow as tf\n",
        "\n",
        "from tensorflow import keras\n",
        "tf.keras.backend.clear_session()  # For easy reset of notebook state.\n",
        "\n",
        "from tensorflow.keras import layers\n",
        "\n",
        "input_layer = keras.Input(shape = (300,8,1), name='main_input')\n",
        "#lstm  = layers.Bidirectional(layers.LSTM(64, return_sequences=True))\n",
        "#lstm1 = lstm(input_layer)\n",
        "x     = layers.Conv2D(16, 3, activation='relu')(input_layer)\n",
        "x     = layers.Conv2D(8, 3, activation='relu')(x)\n",
        "x     = layers.GlobalAveragePooling2D()(x)\n",
        "x     = layers.Dense(8)(x)\n",
        "x     = layers.Dense(4)(x)\n",
        "output = layers.Dense(2, activation='softmax')(x)\n",
        "\n",
        "model = keras.Model(inputs=input_layer, outputs=output)\n",
        "\n",
        "model.summary()"
      ],
      "execution_count": 11,
      "outputs": [
        {
          "output_type": "stream",
          "text": [
            "Model: \"model\"\n",
            "_________________________________________________________________\n",
            "Layer (type)                 Output Shape              Param #   \n",
            "=================================================================\n",
            "main_input (InputLayer)      [(None, 300, 8, 1)]       0         \n",
            "_________________________________________________________________\n",
            "conv2d (Conv2D)              (None, 298, 6, 16)        160       \n",
            "_________________________________________________________________\n",
            "conv2d_1 (Conv2D)            (None, 296, 4, 8)         1160      \n",
            "_________________________________________________________________\n",
            "global_average_pooling2d (Gl (None, 8)                 0         \n",
            "_________________________________________________________________\n",
            "dense (Dense)                (None, 8)                 72        \n",
            "_________________________________________________________________\n",
            "dense_1 (Dense)              (None, 4)                 36        \n",
            "_________________________________________________________________\n",
            "dense_2 (Dense)              (None, 2)                 10        \n",
            "=================================================================\n",
            "Total params: 1,438\n",
            "Trainable params: 1,438\n",
            "Non-trainable params: 0\n",
            "_________________________________________________________________\n"
          ],
          "name": "stdout"
        }
      ]
    },
    {
      "cell_type": "code",
      "metadata": {
        "id": "kIkzpSI14cMV",
        "colab_type": "code",
        "colab": {}
      },
      "source": [
        "#compiling the model\n",
        "opt = keras.optimizers.Adam(lr=0.01, beta_1=0.9, beta_2=0.9, amsgrad=True)\n",
        "model.compile(optimizer=opt,\n",
        "              loss='binary_crossentropy',\n",
        "              metrics=['accuracy'])\n",
        "\n"
      ],
      "execution_count": 0,
      "outputs": []
    },
    {
      "cell_type": "code",
      "metadata": {
        "id": "iUJPHSyp3sl3",
        "colab_type": "code",
        "outputId": "091954de-c524-4332-cbe9-af3e9f67cccb",
        "colab": {
          "base_uri": "https://localhost:8080/",
          "height": 1000
        }
      },
      "source": [
        "from sklearn.model_selection import train_test_split\n",
        "for file in files:\n",
        "  X, Y, Trials, Flash = prepare_data(file)\n",
        "  X_clean, y_clean = clean_data(X, Y, Flash)\n",
        "  X_train, X_valid, y_train, y_valid = train_test_split(X_clean, y_clean, test_size=0.1, random_state=816)\n",
        "  history = model.fit(X_train, y_train, validation_data=(X_valid, y_valid), batch_size=20, epochs=20, verbose=2)\n",
        "  "
      ],
      "execution_count": 18,
      "outputs": [
        {
          "output_type": "stream",
          "text": [
            "len of falseX is 3400 len of falsey is 3400\n",
            "len of trueX is 680 len of truey is 680\n",
            "shape of finalX[0] is (300, 8) shape of finaly is (1360, 2)\n",
            "Epoch 1/20\n",
            "62/62 - 1s - loss: 0.6751 - accuracy: 0.5776 - val_loss: 0.6450 - val_accuracy: 0.6324\n",
            "Epoch 2/20\n",
            "62/62 - 1s - loss: 0.6285 - accuracy: 0.6552 - val_loss: 0.5955 - val_accuracy: 0.7206\n",
            "Epoch 3/20\n",
            "62/62 - 1s - loss: 0.6246 - accuracy: 0.6577 - val_loss: 0.5825 - val_accuracy: 0.7059\n",
            "Epoch 4/20\n",
            "62/62 - 1s - loss: 0.6218 - accuracy: 0.6650 - val_loss: 0.5814 - val_accuracy: 0.7279\n",
            "Epoch 5/20\n",
            "62/62 - 1s - loss: 0.6260 - accuracy: 0.6601 - val_loss: 0.5972 - val_accuracy: 0.6838\n",
            "Epoch 6/20\n",
            "62/62 - 1s - loss: 0.6235 - accuracy: 0.6667 - val_loss: 0.5774 - val_accuracy: 0.7279\n",
            "Epoch 7/20\n",
            "62/62 - 1s - loss: 0.6192 - accuracy: 0.6601 - val_loss: 0.5829 - val_accuracy: 0.7132\n",
            "Epoch 8/20\n",
            "62/62 - 1s - loss: 0.6291 - accuracy: 0.6495 - val_loss: 0.5815 - val_accuracy: 0.7132\n",
            "Epoch 9/20\n",
            "62/62 - 1s - loss: 0.6244 - accuracy: 0.6626 - val_loss: 0.5786 - val_accuracy: 0.7353\n",
            "Epoch 10/20\n",
            "62/62 - 1s - loss: 0.6237 - accuracy: 0.6691 - val_loss: 0.5910 - val_accuracy: 0.7132\n",
            "Epoch 11/20\n",
            "62/62 - 1s - loss: 0.6232 - accuracy: 0.6634 - val_loss: 0.5811 - val_accuracy: 0.7279\n",
            "Epoch 12/20\n",
            "62/62 - 1s - loss: 0.6273 - accuracy: 0.6585 - val_loss: 0.5793 - val_accuracy: 0.7059\n",
            "Epoch 13/20\n",
            "62/62 - 1s - loss: 0.6249 - accuracy: 0.6593 - val_loss: 0.5812 - val_accuracy: 0.7279\n",
            "Epoch 14/20\n",
            "62/62 - 1s - loss: 0.6298 - accuracy: 0.6462 - val_loss: 0.6042 - val_accuracy: 0.6838\n",
            "Epoch 15/20\n",
            "62/62 - 1s - loss: 0.6261 - accuracy: 0.6708 - val_loss: 0.5809 - val_accuracy: 0.7059\n",
            "Epoch 16/20\n",
            "62/62 - 1s - loss: 0.6178 - accuracy: 0.6593 - val_loss: 0.5755 - val_accuracy: 0.7206\n",
            "Epoch 17/20\n",
            "62/62 - 1s - loss: 0.6192 - accuracy: 0.6765 - val_loss: 0.5851 - val_accuracy: 0.7132\n",
            "Epoch 18/20\n",
            "62/62 - 1s - loss: 0.6239 - accuracy: 0.6642 - val_loss: 0.5841 - val_accuracy: 0.7059\n",
            "Epoch 19/20\n",
            "62/62 - 1s - loss: 0.6199 - accuracy: 0.6740 - val_loss: 0.5762 - val_accuracy: 0.7206\n",
            "Epoch 20/20\n",
            "62/62 - 1s - loss: 0.6177 - accuracy: 0.6650 - val_loss: 0.5812 - val_accuracy: 0.7059\n",
            "len of falseX is 3400 len of falsey is 3400\n",
            "len of trueX is 680 len of truey is 680\n",
            "shape of finalX[0] is (300, 8) shape of finaly is (1360, 2)\n",
            "Epoch 1/20\n",
            "62/62 - 1s - loss: 0.6858 - accuracy: 0.5547 - val_loss: 0.6931 - val_accuracy: 0.4926\n",
            "Epoch 2/20\n",
            "62/62 - 1s - loss: 0.6779 - accuracy: 0.5694 - val_loss: 0.6928 - val_accuracy: 0.4853\n",
            "Epoch 3/20\n",
            "62/62 - 1s - loss: 0.6820 - accuracy: 0.5752 - val_loss: 0.6948 - val_accuracy: 0.4926\n",
            "Epoch 4/20\n",
            "62/62 - 1s - loss: 0.6787 - accuracy: 0.5662 - val_loss: 0.6960 - val_accuracy: 0.5074\n",
            "Epoch 5/20\n",
            "62/62 - 1s - loss: 0.6765 - accuracy: 0.5760 - val_loss: 0.6938 - val_accuracy: 0.4926\n",
            "Epoch 6/20\n",
            "62/62 - 1s - loss: 0.6769 - accuracy: 0.5768 - val_loss: 0.6940 - val_accuracy: 0.4853\n",
            "Epoch 7/20\n",
            "62/62 - 1s - loss: 0.6759 - accuracy: 0.5735 - val_loss: 0.6924 - val_accuracy: 0.4926\n",
            "Epoch 8/20\n",
            "62/62 - 1s - loss: 0.6760 - accuracy: 0.5776 - val_loss: 0.6942 - val_accuracy: 0.5147\n",
            "Epoch 9/20\n",
            "62/62 - 1s - loss: 0.6748 - accuracy: 0.5776 - val_loss: 0.6939 - val_accuracy: 0.5294\n",
            "Epoch 10/20\n",
            "62/62 - 1s - loss: 0.6723 - accuracy: 0.5809 - val_loss: 0.6894 - val_accuracy: 0.5368\n",
            "Epoch 11/20\n",
            "62/62 - 1s - loss: 0.6720 - accuracy: 0.5940 - val_loss: 0.6850 - val_accuracy: 0.5368\n",
            "Epoch 12/20\n",
            "62/62 - 1s - loss: 0.6731 - accuracy: 0.5907 - val_loss: 0.6799 - val_accuracy: 0.5368\n",
            "Epoch 13/20\n",
            "62/62 - 1s - loss: 0.6661 - accuracy: 0.5915 - val_loss: 0.6859 - val_accuracy: 0.5221\n",
            "Epoch 14/20\n",
            "62/62 - 1s - loss: 0.6643 - accuracy: 0.6209 - val_loss: 0.6755 - val_accuracy: 0.5735\n",
            "Epoch 15/20\n",
            "62/62 - 1s - loss: 0.6592 - accuracy: 0.5948 - val_loss: 0.6749 - val_accuracy: 0.5735\n",
            "Epoch 16/20\n",
            "62/62 - 1s - loss: 0.6624 - accuracy: 0.6021 - val_loss: 0.6915 - val_accuracy: 0.5441\n",
            "Epoch 17/20\n",
            "62/62 - 1s - loss: 0.6575 - accuracy: 0.5956 - val_loss: 0.7045 - val_accuracy: 0.5441\n",
            "Epoch 18/20\n",
            "62/62 - 1s - loss: 0.6598 - accuracy: 0.5891 - val_loss: 0.6665 - val_accuracy: 0.6103\n",
            "Epoch 19/20\n",
            "62/62 - 1s - loss: 0.6540 - accuracy: 0.6046 - val_loss: 0.6646 - val_accuracy: 0.5956\n",
            "Epoch 20/20\n",
            "62/62 - 1s - loss: 0.6531 - accuracy: 0.6062 - val_loss: 0.6663 - val_accuracy: 0.6250\n",
            "len of falseX is 3400 len of falsey is 3400\n",
            "len of trueX is 680 len of truey is 680\n",
            "shape of finalX[0] is (300, 8) shape of finaly is (1360, 2)\n",
            "Epoch 1/20\n",
            "62/62 - 1s - loss: 0.7056 - accuracy: 0.5090 - val_loss: 0.6988 - val_accuracy: 0.5735\n",
            "Epoch 2/20\n",
            "62/62 - 1s - loss: 0.7000 - accuracy: 0.5033 - val_loss: 0.6915 - val_accuracy: 0.5000\n",
            "Epoch 3/20\n",
            "62/62 - 1s - loss: 0.6934 - accuracy: 0.4959 - val_loss: 0.6927 - val_accuracy: 0.5515\n",
            "Epoch 4/20\n",
            "62/62 - 1s - loss: 0.6937 - accuracy: 0.5114 - val_loss: 0.6921 - val_accuracy: 0.5588\n",
            "Epoch 5/20\n",
            "62/62 - 1s - loss: 0.6936 - accuracy: 0.5188 - val_loss: 0.6927 - val_accuracy: 0.5662\n",
            "Epoch 6/20\n",
            "62/62 - 1s - loss: 0.6922 - accuracy: 0.5131 - val_loss: 0.6915 - val_accuracy: 0.5662\n",
            "Epoch 7/20\n",
            "62/62 - 1s - loss: 0.6929 - accuracy: 0.5000 - val_loss: 0.6993 - val_accuracy: 0.4853\n",
            "Epoch 8/20\n",
            "62/62 - 1s - loss: 0.6924 - accuracy: 0.5229 - val_loss: 0.6907 - val_accuracy: 0.5588\n",
            "Epoch 9/20\n",
            "62/62 - 1s - loss: 0.6936 - accuracy: 0.5204 - val_loss: 0.6952 - val_accuracy: 0.4853\n",
            "Epoch 10/20\n",
            "62/62 - 1s - loss: 0.6918 - accuracy: 0.5245 - val_loss: 0.6892 - val_accuracy: 0.5662\n",
            "Epoch 11/20\n",
            "62/62 - 1s - loss: 0.6925 - accuracy: 0.4992 - val_loss: 0.6903 - val_accuracy: 0.5735\n",
            "Epoch 12/20\n",
            "62/62 - 1s - loss: 0.6918 - accuracy: 0.5163 - val_loss: 0.6898 - val_accuracy: 0.5735\n",
            "Epoch 13/20\n",
            "62/62 - 1s - loss: 0.6918 - accuracy: 0.5065 - val_loss: 0.6921 - val_accuracy: 0.5588\n",
            "Epoch 14/20\n",
            "62/62 - 1s - loss: 0.6921 - accuracy: 0.5400 - val_loss: 0.6896 - val_accuracy: 0.5735\n",
            "Epoch 15/20\n",
            "62/62 - 1s - loss: 0.6929 - accuracy: 0.5098 - val_loss: 0.6891 - val_accuracy: 0.5809\n",
            "Epoch 16/20\n",
            "62/62 - 1s - loss: 0.6915 - accuracy: 0.5033 - val_loss: 0.6908 - val_accuracy: 0.5662\n",
            "Epoch 17/20\n",
            "62/62 - 1s - loss: 0.6916 - accuracy: 0.5057 - val_loss: 0.6917 - val_accuracy: 0.5588\n",
            "Epoch 18/20\n",
            "62/62 - 1s - loss: 0.6905 - accuracy: 0.5384 - val_loss: 0.6882 - val_accuracy: 0.5662\n",
            "Epoch 19/20\n",
            "62/62 - 1s - loss: 0.6903 - accuracy: 0.5229 - val_loss: 0.6889 - val_accuracy: 0.5809\n",
            "Epoch 20/20\n",
            "62/62 - 1s - loss: 0.6926 - accuracy: 0.5090 - val_loss: 0.6862 - val_accuracy: 0.5294\n",
            "len of falseX is 3400 len of falsey is 3400\n",
            "len of trueX is 680 len of truey is 680\n",
            "shape of finalX[0] is (300, 8) shape of finaly is (1360, 2)\n",
            "Epoch 1/20\n",
            "62/62 - 1s - loss: 0.6902 - accuracy: 0.5212 - val_loss: 0.6854 - val_accuracy: 0.5588\n",
            "Epoch 2/20\n",
            "62/62 - 1s - loss: 0.6872 - accuracy: 0.5237 - val_loss: 0.6866 - val_accuracy: 0.5956\n",
            "Epoch 3/20\n",
            "62/62 - 1s - loss: 0.6859 - accuracy: 0.5629 - val_loss: 0.6833 - val_accuracy: 0.5074\n",
            "Epoch 4/20\n",
            "62/62 - 1s - loss: 0.6845 - accuracy: 0.5408 - val_loss: 0.6830 - val_accuracy: 0.5221\n",
            "Epoch 5/20\n",
            "62/62 - 1s - loss: 0.6822 - accuracy: 0.5531 - val_loss: 0.6949 - val_accuracy: 0.5221\n",
            "Epoch 6/20\n",
            "62/62 - 1s - loss: 0.6849 - accuracy: 0.5547 - val_loss: 0.6848 - val_accuracy: 0.5000\n",
            "Epoch 7/20\n",
            "62/62 - 1s - loss: 0.6826 - accuracy: 0.5498 - val_loss: 0.6865 - val_accuracy: 0.5147\n",
            "Epoch 8/20\n",
            "62/62 - 1s - loss: 0.6822 - accuracy: 0.5523 - val_loss: 0.6888 - val_accuracy: 0.5147\n",
            "Epoch 9/20\n",
            "62/62 - 1s - loss: 0.6812 - accuracy: 0.5662 - val_loss: 0.6918 - val_accuracy: 0.5368\n",
            "Epoch 10/20\n",
            "62/62 - 1s - loss: 0.6836 - accuracy: 0.5605 - val_loss: 0.6876 - val_accuracy: 0.4926\n",
            "Epoch 11/20\n",
            "62/62 - 1s - loss: 0.6818 - accuracy: 0.5637 - val_loss: 0.6882 - val_accuracy: 0.5000\n",
            "Epoch 12/20\n",
            "62/62 - 1s - loss: 0.6802 - accuracy: 0.5645 - val_loss: 0.6911 - val_accuracy: 0.5441\n",
            "Epoch 13/20\n",
            "62/62 - 1s - loss: 0.6817 - accuracy: 0.5621 - val_loss: 0.6877 - val_accuracy: 0.5294\n",
            "Epoch 14/20\n",
            "62/62 - 1s - loss: 0.6835 - accuracy: 0.5572 - val_loss: 0.6911 - val_accuracy: 0.5368\n",
            "Epoch 15/20\n",
            "62/62 - 1s - loss: 0.6802 - accuracy: 0.5678 - val_loss: 0.6872 - val_accuracy: 0.5074\n",
            "Epoch 16/20\n",
            "62/62 - 1s - loss: 0.6816 - accuracy: 0.5580 - val_loss: 0.6899 - val_accuracy: 0.5294\n",
            "Epoch 17/20\n",
            "62/62 - 1s - loss: 0.6815 - accuracy: 0.5621 - val_loss: 0.6953 - val_accuracy: 0.5662\n",
            "Epoch 18/20\n",
            "62/62 - 1s - loss: 0.6812 - accuracy: 0.5572 - val_loss: 0.7022 - val_accuracy: 0.5221\n",
            "Epoch 19/20\n",
            "62/62 - 1s - loss: 0.6860 - accuracy: 0.5433 - val_loss: 0.6891 - val_accuracy: 0.5368\n",
            "Epoch 20/20\n",
            "62/62 - 1s - loss: 0.6799 - accuracy: 0.5613 - val_loss: 0.6949 - val_accuracy: 0.5662\n",
            "len of falseX is 3400 len of falsey is 3400\n",
            "len of trueX is 680 len of truey is 680\n",
            "shape of finalX[0] is (300, 8) shape of finaly is (1360, 2)\n",
            "Epoch 1/20\n",
            "62/62 - 1s - loss: 0.6946 - accuracy: 0.5564 - val_loss: 0.6940 - val_accuracy: 0.5147\n",
            "Epoch 2/20\n",
            "62/62 - 1s - loss: 0.6915 - accuracy: 0.5449 - val_loss: 0.6916 - val_accuracy: 0.5368\n",
            "Epoch 3/20\n",
            "62/62 - 1s - loss: 0.6909 - accuracy: 0.5359 - val_loss: 0.6907 - val_accuracy: 0.5441\n",
            "Epoch 4/20\n",
            "62/62 - 1s - loss: 0.6903 - accuracy: 0.5686 - val_loss: 0.6914 - val_accuracy: 0.5221\n",
            "Epoch 5/20\n",
            "62/62 - 1s - loss: 0.6906 - accuracy: 0.5310 - val_loss: 0.6915 - val_accuracy: 0.5221\n",
            "Epoch 6/20\n",
            "62/62 - 1s - loss: 0.6899 - accuracy: 0.5433 - val_loss: 0.6910 - val_accuracy: 0.5221\n",
            "Epoch 7/20\n",
            "62/62 - 1s - loss: 0.6896 - accuracy: 0.5539 - val_loss: 0.6901 - val_accuracy: 0.5294\n",
            "Epoch 8/20\n",
            "62/62 - 1s - loss: 0.6891 - accuracy: 0.5613 - val_loss: 0.6900 - val_accuracy: 0.5368\n",
            "Epoch 9/20\n",
            "62/62 - 1s - loss: 0.6874 - accuracy: 0.5629 - val_loss: 0.6881 - val_accuracy: 0.5368\n",
            "Epoch 10/20\n",
            "62/62 - 1s - loss: 0.6892 - accuracy: 0.5629 - val_loss: 0.6890 - val_accuracy: 0.5441\n",
            "Epoch 11/20\n",
            "62/62 - 1s - loss: 0.6882 - accuracy: 0.5743 - val_loss: 0.6924 - val_accuracy: 0.5147\n",
            "Epoch 12/20\n",
            "62/62 - 1s - loss: 0.6890 - accuracy: 0.5572 - val_loss: 0.6901 - val_accuracy: 0.5221\n",
            "Epoch 13/20\n",
            "62/62 - 1s - loss: 0.6889 - accuracy: 0.5580 - val_loss: 0.6906 - val_accuracy: 0.5147\n",
            "Epoch 14/20\n",
            "62/62 - 1s - loss: 0.6882 - accuracy: 0.5711 - val_loss: 0.6901 - val_accuracy: 0.5221\n",
            "Epoch 15/20\n",
            "62/62 - 1s - loss: 0.6874 - accuracy: 0.5654 - val_loss: 0.6882 - val_accuracy: 0.5368\n",
            "Epoch 16/20\n",
            "62/62 - 1s - loss: 0.6884 - accuracy: 0.5605 - val_loss: 0.6916 - val_accuracy: 0.5221\n",
            "Epoch 17/20\n",
            "62/62 - 1s - loss: 0.6886 - accuracy: 0.5678 - val_loss: 0.6886 - val_accuracy: 0.5294\n",
            "Epoch 18/20\n",
            "62/62 - 1s - loss: 0.6875 - accuracy: 0.5605 - val_loss: 0.6892 - val_accuracy: 0.5221\n",
            "Epoch 19/20\n",
            "62/62 - 1s - loss: 0.6879 - accuracy: 0.5621 - val_loss: 0.6873 - val_accuracy: 0.5662\n",
            "Epoch 20/20\n",
            "62/62 - 1s - loss: 0.6878 - accuracy: 0.5678 - val_loss: 0.6892 - val_accuracy: 0.5294\n",
            "len of falseX is 3400 len of falsey is 3400\n",
            "len of trueX is 680 len of truey is 680\n",
            "shape of finalX[0] is (300, 8) shape of finaly is (1360, 2)\n",
            "Epoch 1/20\n",
            "62/62 - 1s - loss: 0.6674 - accuracy: 0.6413 - val_loss: 0.6582 - val_accuracy: 0.5882\n",
            "Epoch 2/20\n",
            "62/62 - 1s - loss: 0.6658 - accuracy: 0.6136 - val_loss: 0.6476 - val_accuracy: 0.6250\n",
            "Epoch 3/20\n",
            "62/62 - 1s - loss: 0.6659 - accuracy: 0.6258 - val_loss: 0.6357 - val_accuracy: 0.7206\n",
            "Epoch 4/20\n",
            "62/62 - 1s - loss: 0.6640 - accuracy: 0.6413 - val_loss: 0.6362 - val_accuracy: 0.6838\n",
            "Epoch 5/20\n",
            "62/62 - 1s - loss: 0.6648 - accuracy: 0.6258 - val_loss: 0.6536 - val_accuracy: 0.5735\n",
            "Epoch 6/20\n",
            "62/62 - 1s - loss: 0.6629 - accuracy: 0.6258 - val_loss: 0.6491 - val_accuracy: 0.6103\n",
            "Epoch 7/20\n",
            "62/62 - 1s - loss: 0.6631 - accuracy: 0.6136 - val_loss: 0.6286 - val_accuracy: 0.7426\n",
            "Epoch 8/20\n",
            "62/62 - 1s - loss: 0.6644 - accuracy: 0.6356 - val_loss: 0.6364 - val_accuracy: 0.6691\n",
            "Epoch 9/20\n",
            "62/62 - 1s - loss: 0.6617 - accuracy: 0.6258 - val_loss: 0.6231 - val_accuracy: 0.7206\n",
            "Epoch 10/20\n",
            "62/62 - 1s - loss: 0.6619 - accuracy: 0.6152 - val_loss: 0.6268 - val_accuracy: 0.7353\n",
            "Epoch 11/20\n",
            "62/62 - 1s - loss: 0.6624 - accuracy: 0.6283 - val_loss: 0.6429 - val_accuracy: 0.6103\n",
            "Epoch 12/20\n",
            "62/62 - 1s - loss: 0.6654 - accuracy: 0.6373 - val_loss: 0.6313 - val_accuracy: 0.7059\n",
            "Epoch 13/20\n",
            "62/62 - 1s - loss: 0.6633 - accuracy: 0.6234 - val_loss: 0.6393 - val_accuracy: 0.6471\n",
            "Epoch 14/20\n",
            "62/62 - 1s - loss: 0.6587 - accuracy: 0.6397 - val_loss: 0.6324 - val_accuracy: 0.6985\n",
            "Epoch 15/20\n",
            "62/62 - 1s - loss: 0.6604 - accuracy: 0.6364 - val_loss: 0.6311 - val_accuracy: 0.7059\n",
            "Epoch 16/20\n",
            "62/62 - 1s - loss: 0.6626 - accuracy: 0.6266 - val_loss: 0.6233 - val_accuracy: 0.7574\n",
            "Epoch 17/20\n",
            "62/62 - 1s - loss: 0.6603 - accuracy: 0.6381 - val_loss: 0.6483 - val_accuracy: 0.5882\n",
            "Epoch 18/20\n",
            "62/62 - 1s - loss: 0.6599 - accuracy: 0.6332 - val_loss: 0.6254 - val_accuracy: 0.7500\n",
            "Epoch 19/20\n",
            "62/62 - 1s - loss: 0.6579 - accuracy: 0.6136 - val_loss: 0.6452 - val_accuracy: 0.5882\n",
            "Epoch 20/20\n",
            "62/62 - 1s - loss: 0.6621 - accuracy: 0.6225 - val_loss: 0.6265 - val_accuracy: 0.7279\n"
          ],
          "name": "stdout"
        }
      ]
    },
    {
      "cell_type": "code",
      "metadata": {
        "id": "Xzq9hShpU4yI",
        "colab_type": "code",
        "colab": {
          "base_uri": "https://localhost:8080/",
          "height": 818
        },
        "outputId": "255b51e7-1047-4fa6-d952-0a83ec353675"
      },
      "source": [
        "X, Y, Trials, Flash = prepare_data(test_file)\n",
        "X_clean, y_clean = clean_data(X, Y, Flash)\n",
        "X_train, X_test, y_train, y_test = train_test_split(X_clean, y_clean, test_size=0.1, random_state=816)\n",
        "pred = model.fit(X_train, y_train, batch_size=10, epochs=20)"
      ],
      "execution_count": 21,
      "outputs": [
        {
          "output_type": "stream",
          "text": [
            "len of falseX is 3400 len of falsey is 3400\n",
            "len of trueX is 680 len of truey is 680\n",
            "shape of finalX[0] is (300, 8) shape of finaly is (1360, 2)\n",
            "Epoch 1/20\n",
            "123/123 [==============================] - 1s 11ms/step - loss: 0.7035 - accuracy: 0.5351\n",
            "Epoch 2/20\n",
            "123/123 [==============================] - 1s 11ms/step - loss: 0.6830 - accuracy: 0.5482\n",
            "Epoch 3/20\n",
            "123/123 [==============================] - 1s 11ms/step - loss: 0.6805 - accuracy: 0.5531\n",
            "Epoch 4/20\n",
            "123/123 [==============================] - 1s 11ms/step - loss: 0.6829 - accuracy: 0.5596\n",
            "Epoch 5/20\n",
            "123/123 [==============================] - 1s 11ms/step - loss: 0.6793 - accuracy: 0.5474\n",
            "Epoch 6/20\n",
            "123/123 [==============================] - 1s 11ms/step - loss: 0.6790 - accuracy: 0.5825\n",
            "Epoch 7/20\n",
            "123/123 [==============================] - 1s 11ms/step - loss: 0.6764 - accuracy: 0.5923\n",
            "Epoch 8/20\n",
            "123/123 [==============================] - 1s 11ms/step - loss: 0.6664 - accuracy: 0.6029\n",
            "Epoch 9/20\n",
            "123/123 [==============================] - 1s 11ms/step - loss: 0.6443 - accuracy: 0.6422\n",
            "Epoch 10/20\n",
            "123/123 [==============================] - 1s 11ms/step - loss: 0.6297 - accuracy: 0.6765\n",
            "Epoch 11/20\n",
            "123/123 [==============================] - 1s 11ms/step - loss: 0.5773 - accuracy: 0.7484\n",
            "Epoch 12/20\n",
            "123/123 [==============================] - 1s 11ms/step - loss: 0.5638 - accuracy: 0.7345\n",
            "Epoch 13/20\n",
            "123/123 [==============================] - 1s 11ms/step - loss: 0.5618 - accuracy: 0.7230\n",
            "Epoch 14/20\n",
            "123/123 [==============================] - 1s 11ms/step - loss: 0.5621 - accuracy: 0.7361\n",
            "Epoch 15/20\n",
            "123/123 [==============================] - 1s 11ms/step - loss: 0.5594 - accuracy: 0.7377\n",
            "Epoch 16/20\n",
            "123/123 [==============================] - 1s 11ms/step - loss: 0.5400 - accuracy: 0.7516\n",
            "Epoch 17/20\n",
            "123/123 [==============================] - 1s 11ms/step - loss: 0.5392 - accuracy: 0.7508\n",
            "Epoch 18/20\n",
            "123/123 [==============================] - 1s 11ms/step - loss: 0.5406 - accuracy: 0.7525\n",
            "Epoch 19/20\n",
            "123/123 [==============================] - 1s 11ms/step - loss: 0.5201 - accuracy: 0.7606\n",
            "Epoch 20/20\n",
            "123/123 [==============================] - 1s 11ms/step - loss: 0.5432 - accuracy: 0.7426\n"
          ],
          "name": "stdout"
        }
      ]
    },
    {
      "cell_type": "code",
      "metadata": {
        "id": "HOLJ_MP5V3Bd",
        "colab_type": "code",
        "colab": {
          "base_uri": "https://localhost:8080/",
          "height": 36
        },
        "outputId": "d5716c37-ec9c-48a4-ad34-4ab0d5033686"
      },
      "source": [
        "score = model.evaluate(X_test, y_test)"
      ],
      "execution_count": 22,
      "outputs": [
        {
          "output_type": "stream",
          "text": [
            "5/5 [==============================] - 0s 7ms/step - loss: 0.7300 - accuracy: 0.7059\n"
          ],
          "name": "stdout"
        }
      ]
    },
    {
      "cell_type": "code",
      "metadata": {
        "id": "rFe0_IjBZXzR",
        "colab_type": "code",
        "colab": {}
      },
      "source": [
        "preds = model.predict(X_test)"
      ],
      "execution_count": 0,
      "outputs": []
    },
    {
      "cell_type": "code",
      "metadata": {
        "id": "iNS7uYNfd2qb",
        "colab_type": "code",
        "colab": {}
      },
      "source": [
        "from sklearn.metrics import confusion_matrix\n",
        "\n",
        "matrix = confusion_matrix(y_test.argmax(axis=1), preds.argmax(axis=1))"
      ],
      "execution_count": 0,
      "outputs": []
    },
    {
      "cell_type": "code",
      "metadata": {
        "id": "-JE-9G3ReFsh",
        "colab_type": "code",
        "colab": {
          "base_uri": "https://localhost:8080/",
          "height": 54
        },
        "outputId": "1c473cac-4b19-47a5-e05c-0bac601593d6"
      },
      "source": [
        "matrix"
      ],
      "execution_count": 34,
      "outputs": [
        {
          "output_type": "execute_result",
          "data": {
            "text/plain": [
              "array([[54, 11],\n",
              "       [29, 42]])"
            ]
          },
          "metadata": {
            "tags": []
          },
          "execution_count": 34
        }
      ]
    },
    {
      "cell_type": "code",
      "metadata": {
        "id": "45hXrN4HeJka",
        "colab_type": "code",
        "colab": {
          "base_uri": "https://localhost:8080/",
          "height": 477
        },
        "outputId": "c3903151-302b-4646-8a6b-665321f3c483"
      },
      "source": [
        "import seaborn as sns\n",
        "df_cm = pd.DataFrame(matrix, columns=np.unique(y_test), index = np.unique(y_test))\n",
        "df_cm.index.name = 'Actual'\n",
        "df_cm.columns.name = 'Predicted'\n",
        "plt.figure(figsize = (10,7))\n",
        "sns.set(font_scale=1.4)#for label size\n",
        "sns.heatmap(df_cm, cmap=\"Blues\", annot=True,annot_kws={\"size\": 16})# font size"
      ],
      "execution_count": 38,
      "outputs": [
        {
          "output_type": "execute_result",
          "data": {
            "text/plain": [
              "<matplotlib.axes._subplots.AxesSubplot at 0x7f2c5a5b8f60>"
            ]
          },
          "metadata": {
            "tags": []
          },
          "execution_count": 38
        },
        {
          "output_type": "display_data",
          "data": {
            "image/png": "[encoded data removed]",
            "text/plain": [
              "<Figure size 720x504 with 2 Axes>"
            ]
          },
          "metadata": {
            "tags": []
          }
        }
      ]
    },
    {
      "cell_type": "code",
      "metadata": {
        "id": "9cSpTSaHfKx4",
        "colab_type": "code",
        "colab": {}
      },
      "source": [
        ""
      ],
      "execution_count": 0,
      "outputs": []
    }
  ]
}