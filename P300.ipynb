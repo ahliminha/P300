{
  "nbformat": 4,
  "nbformat_minor": 0,
  "metadata": {
    "colab": {
      "name": "P300.ipynb",
      "provenance": [],
      "collapsed_sections": [],
      "machine_shape": "hm",
      "include_colab_link": true
    },
    "kernelspec": {
      "name": "python3",
      "display_name": "Python 3"
    }
  },
  "cells": [
    {
      "cell_type": "markdown",
      "metadata": {
        "id": "view-in-github",
        "colab_type": "text"
      },
      "source": [
        "<a href=\"https://colab.research.google.com/github/ahliminha/P300/blob/master/P300.ipynb\" target=\"_parent\"><img src=\"https://colab.research.google.com/assets/colab-badge.svg\" alt=\"Open In Colab\"/></a>"
      ]
    },
    {
      "cell_type": "code",
      "metadata": {
        "id": "XbWOxk2p8oao",
        "colab_type": "code",
        "outputId": "a0dc2682-5630-401e-fe19-e2d5eec80fe3",
        "colab": {
          "base_uri": "https://localhost:8080/",
          "height": 36
        }
      },
      "source": [
        "!pip3 install mat4py"
      ],
      "execution_count": 93,
      "outputs": [
        {
          "output_type": "stream",
          "text": [
            "Requirement already satisfied: mat4py in /usr/local/lib/python3.6/dist-packages (0.4.3)\n"
          ],
          "name": "stdout"
        }
      ]
    },
    {
      "cell_type": "code",
      "metadata": {
        "id": "_lCmbMGYQtcd",
        "colab_type": "code",
        "outputId": "b1a26560-5c79-4e1d-d249-c8baf6c6dcf8",
        "colab": {
          "base_uri": "https://localhost:8080/",
          "height": 36
        }
      },
      "source": [
        "from google.colab import drive\n",
        "drive.mount('/content/drive')"
      ],
      "execution_count": 94,
      "outputs": [
        {
          "output_type": "stream",
          "text": [
            "Drive already mounted at /content/drive; to attempt to forcibly remount, call drive.mount(\"/content/drive\", force_remount=True).\n"
          ],
          "name": "stdout"
        }
      ]
    },
    {
      "cell_type": "code",
      "metadata": {
        "id": "T_UpFDN59K9E",
        "colab_type": "code",
        "colab": {}
      },
      "source": [
        "import sklearn as sk\n",
        "import pandas as pd\n",
        "import numpy as np\n",
        "import matplotlib.pyplot as plt \n",
        "import scipy.io as sio\n",
        "from mat4py import loadmat \n",
        "from keras.utils import to_categorical\n",
        "np.random.seed(816)"
      ],
      "execution_count": 0,
      "outputs": []
    },
    {
      "cell_type": "code",
      "metadata": {
        "id": "L6ykl3cYdv-K",
        "colab_type": "code",
        "colab": {}
      },
      "source": [
        "import glob"
      ],
      "execution_count": 0,
      "outputs": []
    },
    {
      "cell_type": "code",
      "metadata": {
        "id": "22_XYGiufvOH",
        "colab_type": "code",
        "colab": {}
      },
      "source": [
        "folder = '/content/drive/My Drive/IC/*.mat'\n",
        "files = glob.glob(folder)\n",
        "files.pop(0) #drop the data badly structured\n",
        "test_file = files.pop(0) #last subject for testing the network"
      ],
      "execution_count": 0,
      "outputs": []
    },
    {
      "cell_type": "code",
      "metadata": {
        "id": "9AVdG8lY171G",
        "colab_type": "code",
        "outputId": "4871a2a3-9309-4aa0-aaf0-4501c026c71d",
        "colab": {
          "base_uri": "https://localhost:8080/",
          "height": 36
        }
      },
      "source": [
        "print(files)"
      ],
      "execution_count": 98,
      "outputs": [
        {
          "output_type": "stream",
          "text": [
            "['/content/drive/My Drive/IC/P300S03.mat', '/content/drive/My Drive/IC/P300S04.mat', '/content/drive/My Drive/IC/P300S05.mat', '/content/drive/My Drive/IC/P300S06.mat', '/content/drive/My Drive/IC/P300S07.mat', '/content/drive/My Drive/IC/P300S08.mat']\n"
          ],
          "name": "stdout"
        }
      ]
    },
    {
      "cell_type": "code",
      "metadata": {
        "id": "uWlYJ89j6qEO",
        "colab_type": "code",
        "colab": {}
      },
      "source": [
        "from scipy.signal import butter, lfilter, freqz\n",
        "\n",
        "def butter_lowpass(cutoff, fs, order=5):\n",
        "    nyq = 0.5 * fs\n",
        "    normal_cutoff = cutoff / nyq\n",
        "    b, a = butter(order, normal_cutoff, btype='low', analog=False)\n",
        "    return b, a\n",
        "\n",
        "def butter_lowpass_filter(data, cutoff, fs, order=5):\n",
        "    b, a = butter_lowpass(cutoff, fs, order=order)\n",
        "    y = lfilter(b, a, data)\n",
        "    return y\n",
        "\n",
        "\n",
        "# Filter requirements.\n",
        "order = 6\n",
        "fs = 24.0       # sample rate, Hz\n",
        "cutoff = 1.5  # desired cutoff frequency of the filter, Hz\n",
        "\n",
        "# Get the filter coefficients so we can check its frequency response.\n",
        "b, a = butter_lowpass(cutoff, fs, order)"
      ],
      "execution_count": 0,
      "outputs": []
    },
    {
      "cell_type": "code",
      "metadata": {
        "id": "JqXJ_anMgpV4",
        "colab_type": "code",
        "colab": {}
      },
      "source": [
        "def prepare_data(file):\n",
        "  allX = []\n",
        "  allY = []\n",
        "  allT = []\n",
        "  allF = []\n",
        "  raw_data = loadmat(file)\n",
        "  useful_data = raw_data['data'].copy()\n",
        "  X = useful_data['X']\n",
        "  Y = useful_data['y']\n",
        "  T = useful_data['trial']\n",
        "  F = useful_data['flash']\n",
        "  # X_mean = np.mean(X, axis=1)\n",
        "  X_filtered = butter_lowpass_filter(X, cutoff, fs, order)\n",
        "  \n",
        "  return X_filtered, Y, T, F"
      ],
      "execution_count": 0,
      "outputs": []
    },
    {
      "cell_type": "code",
      "metadata": {
        "id": "6vP5HdmNvvy1",
        "colab_type": "code",
        "colab": {}
      },
      "source": [
        "def normalized(vec):\n",
        "  norm_vec = (vec - vec.min(axis=1, keepdims=True))/vec.ptp(axis=1, keepdims=True)\n",
        "  return norm_vec"
      ],
      "execution_count": 0,
      "outputs": []
    },
    {
      "cell_type": "code",
      "metadata": {
        "id": "hHhnXB_Xo036",
        "colab_type": "code",
        "colab": {}
      },
      "source": [
        "def clean_data(X, Y, flash):\n",
        "  \n",
        "  X_samples = np.array([np.array(X[i[0]:i[0]+300]) for i in flash] )\n",
        "  column    = [i[2] for i in flash]\n",
        "  label     = [i[3] - 1 for i in flash]\n",
        "  \n",
        "  LIMIT = 4080 #the last trial is incomplete\n",
        "  X_selected = np.array(X_samples[:LIMIT])\n",
        "  col_selected = np.array(column[:LIMIT])\n",
        "  label_selected = np.array(label[:LIMIT])\n",
        "\n",
        "  y = np.array(to_categorical(label_selected))\n",
        "\n",
        "  false_idx = [k for k, i in enumerate(y) if i[0] == 1]\n",
        "  true_idx  = [k for k, i in enumerate(y) if i[0] == 0]\n",
        "\n",
        "  falseX = X_selected[false_idx]\n",
        "  falsey = y[false_idx]\n",
        "\n",
        "  trueX  = X_selected[true_idx]  \n",
        "  truey  = y[true_idx]\n",
        "  # proportional data to avoid greedy cost funtion\n",
        "\n",
        "  proportionalX = falseX[:int(len(trueX))]\n",
        "  proportionaly = falsey[:int(len(truey))]\n",
        "\n",
        "  finalX = np.concatenate((trueX, proportionalX))\n",
        "  finaly = np.concatenate((truey, proportionaly))\n",
        "\n",
        "  X_timeseries = np.vstack(finalX)\n",
        "  X_letters = X_timeseries.reshape(34,40,300,8)\n",
        "  y_letters = finaly.reshape(34,40,2)\n",
        "  cleaned_X = np.vstack(X_letters)\n",
        "  cleaned_Y = np.vstack(y_letters)\n",
        "  \n",
        "  return cleaned_X, cleaned_Y"
      ],
      "execution_count": 0,
      "outputs": []
    },
    {
      "cell_type": "code",
      "metadata": {
        "id": "EnJ18aGK4S9y",
        "colab_type": "code",
        "outputId": "ea0ec696-bfe2-4f32-a156-5798d489216e",
        "colab": {
          "base_uri": "https://localhost:8080/",
          "height": 427
        }
      },
      "source": [
        "import tensorflow as tf\n",
        "\n",
        "from tensorflow import keras\n",
        "tf.keras.backend.clear_session()  # For easy reset of notebook state.\n",
        "\n",
        "from tensorflow.keras import layers\n",
        "\n",
        "input_layer = keras.Input(shape = (300,8,1), name='main_input')\n",
        "#lstm  = layers.Bidirectional(layers.LSTM(64, return_sequences=True))\n",
        "#lstm1 = lstm(input_layer)\n",
        "x     = layers.Conv2D(16, 3, activation='relu')(input_layer)\n",
        "x     = layers.Conv2D(32, 3, activation='relu')(x)\n",
        "x     = layers.GlobalAveragePooling2D()(x)\n",
        "x     = layers.Dense(8)(x)\n",
        "x     = layers.Dense(64)(x)\n",
        "output = layers.Dense(2, activation='softmax')(x)\n",
        "\n",
        "model = keras.Model(inputs=input_layer, outputs=output)\n",
        "\n",
        "model.summary()"
      ],
      "execution_count": 112,
      "outputs": [
        {
          "output_type": "stream",
          "text": [
            "Model: \"model\"\n",
            "_________________________________________________________________\n",
            "Layer (type)                 Output Shape              Param #   \n",
            "=================================================================\n",
            "main_input (InputLayer)      [(None, 300, 8, 1)]       0         \n",
            "_________________________________________________________________\n",
            "conv2d (Conv2D)              (None, 298, 6, 16)        160       \n",
            "_________________________________________________________________\n",
            "conv2d_1 (Conv2D)            (None, 296, 4, 32)        4640      \n",
            "_________________________________________________________________\n",
            "global_average_pooling2d (Gl (None, 32)                0         \n",
            "_________________________________________________________________\n",
            "dense (Dense)                (None, 8)                 264       \n",
            "_________________________________________________________________\n",
            "dense_1 (Dense)              (None, 64)                576       \n",
            "_________________________________________________________________\n",
            "dense_2 (Dense)              (None, 2)                 130       \n",
            "=================================================================\n",
            "Total params: 5,770\n",
            "Trainable params: 5,770\n",
            "Non-trainable params: 0\n",
            "_________________________________________________________________\n"
          ],
          "name": "stdout"
        }
      ]
    },
    {
      "cell_type": "code",
      "metadata": {
        "id": "kIkzpSI14cMV",
        "colab_type": "code",
        "colab": {}
      },
      "source": [
        "#compiling the model\n",
        "opt = keras.optimizers.Adam(lr=0.001, beta_1=0.99, beta_2=0.9, amsgrad=True)\n",
        "model.compile(optimizer=opt,\n",
        "              loss='binary_crossentropy',\n",
        "              metrics=['accuracy'])\n",
        "\n"
      ],
      "execution_count": 0,
      "outputs": []
    },
    {
      "cell_type": "code",
      "metadata": {
        "id": "iUJPHSyp3sl3",
        "colab_type": "code",
        "colab": {
          "base_uri": "https://localhost:8080/",
          "height": 1000
        },
        "outputId": "3d13a627-8005-4d9e-f12e-d92bfbdc8849"
      },
      "source": [
        "from sklearn.model_selection import train_test_split\n",
        "for file in files:\n",
        "  X, Y, Trials, Flash = prepare_data(file)\n",
        "  X_clean, y_clean = clean_data(X, Y, Flash)\n",
        "  X_train, X_valid, y_train, y_valid = train_test_split(X_clean, y_clean, test_size=0.1, random_state=816)\n",
        "  history = model.fit(X_train, y_train, validation_data=(X_valid, y_valid), batch_size=10, epochs=20, verbose=2)\n",
        "  "
      ],
      "execution_count": 114,
      "outputs": [
        {
          "output_type": "stream",
          "text": [
            "Epoch 1/20\n",
            "123/123 - 2s - loss: 0.6898 - accuracy: 0.5294 - val_loss: 0.6717 - val_accuracy: 0.7206\n",
            "Epoch 2/20\n",
            "123/123 - 2s - loss: 0.6672 - accuracy: 0.5842 - val_loss: 0.6417 - val_accuracy: 0.6765\n",
            "Epoch 3/20\n",
            "123/123 - 2s - loss: 0.6425 - accuracy: 0.6528 - val_loss: 0.6053 - val_accuracy: 0.7132\n",
            "Epoch 4/20\n",
            "123/123 - 2s - loss: 0.6216 - accuracy: 0.6716 - val_loss: 0.5808 - val_accuracy: 0.7206\n",
            "Epoch 5/20\n",
            "123/123 - 2s - loss: 0.6174 - accuracy: 0.6699 - val_loss: 0.5712 - val_accuracy: 0.7206\n",
            "Epoch 6/20\n",
            "123/123 - 2s - loss: 0.6221 - accuracy: 0.6658 - val_loss: 0.5715 - val_accuracy: 0.7132\n",
            "Epoch 7/20\n",
            "123/123 - 2s - loss: 0.6207 - accuracy: 0.6667 - val_loss: 0.5721 - val_accuracy: 0.7206\n",
            "Epoch 8/20\n",
            "123/123 - 2s - loss: 0.6189 - accuracy: 0.6757 - val_loss: 0.5708 - val_accuracy: 0.7206\n",
            "Epoch 9/20\n",
            "123/123 - 2s - loss: 0.6178 - accuracy: 0.6642 - val_loss: 0.5716 - val_accuracy: 0.7206\n",
            "Epoch 10/20\n",
            "123/123 - 2s - loss: 0.6234 - accuracy: 0.6609 - val_loss: 0.5807 - val_accuracy: 0.7353\n",
            "Epoch 11/20\n",
            "123/123 - 2s - loss: 0.6196 - accuracy: 0.6650 - val_loss: 0.5789 - val_accuracy: 0.7206\n",
            "Epoch 12/20\n",
            "123/123 - 2s - loss: 0.6175 - accuracy: 0.6806 - val_loss: 0.5738 - val_accuracy: 0.7353\n",
            "Epoch 13/20\n",
            "123/123 - 2s - loss: 0.6227 - accuracy: 0.6708 - val_loss: 0.5699 - val_accuracy: 0.7206\n",
            "Epoch 14/20\n",
            "123/123 - 2s - loss: 0.6186 - accuracy: 0.6667 - val_loss: 0.5706 - val_accuracy: 0.7206\n",
            "Epoch 15/20\n",
            "123/123 - 2s - loss: 0.6168 - accuracy: 0.6789 - val_loss: 0.5722 - val_accuracy: 0.7279\n",
            "Epoch 16/20\n",
            "123/123 - 2s - loss: 0.6169 - accuracy: 0.6822 - val_loss: 0.5768 - val_accuracy: 0.7059\n",
            "Epoch 17/20\n",
            "123/123 - 2s - loss: 0.6179 - accuracy: 0.6757 - val_loss: 0.5679 - val_accuracy: 0.7206\n",
            "Epoch 18/20\n",
            "123/123 - 2s - loss: 0.6173 - accuracy: 0.6716 - val_loss: 0.5699 - val_accuracy: 0.7132\n",
            "Epoch 19/20\n",
            "123/123 - 2s - loss: 0.6219 - accuracy: 0.6675 - val_loss: 0.5679 - val_accuracy: 0.7132\n",
            "Epoch 20/20\n",
            "123/123 - 2s - loss: 0.6211 - accuracy: 0.6634 - val_loss: 0.5758 - val_accuracy: 0.7059\n",
            "Epoch 1/20\n",
            "123/123 - 2s - loss: 0.6941 - accuracy: 0.5498 - val_loss: 0.7014 - val_accuracy: 0.5221\n",
            "Epoch 2/20\n",
            "123/123 - 1s - loss: 0.6832 - accuracy: 0.5580 - val_loss: 0.6995 - val_accuracy: 0.5441\n",
            "Epoch 3/20\n",
            "123/123 - 1s - loss: 0.6756 - accuracy: 0.5613 - val_loss: 0.6984 - val_accuracy: 0.5368\n",
            "Epoch 4/20\n",
            "123/123 - 1s - loss: 0.6797 - accuracy: 0.5637 - val_loss: 0.6893 - val_accuracy: 0.5588\n",
            "Epoch 5/20\n",
            "123/123 - 1s - loss: 0.6750 - accuracy: 0.5825 - val_loss: 0.6899 - val_accuracy: 0.5074\n",
            "Epoch 6/20\n",
            "123/123 - 2s - loss: 0.6752 - accuracy: 0.5662 - val_loss: 0.6876 - val_accuracy: 0.5221\n",
            "Epoch 7/20\n",
            "123/123 - 1s - loss: 0.6714 - accuracy: 0.5817 - val_loss: 0.6867 - val_accuracy: 0.5294\n",
            "Epoch 8/20\n",
            "123/123 - 1s - loss: 0.6701 - accuracy: 0.5866 - val_loss: 0.6861 - val_accuracy: 0.5368\n",
            "Epoch 9/20\n",
            "123/123 - 1s - loss: 0.6690 - accuracy: 0.5972 - val_loss: 0.6838 - val_accuracy: 0.5441\n",
            "Epoch 10/20\n",
            "123/123 - 1s - loss: 0.6653 - accuracy: 0.5956 - val_loss: 0.6846 - val_accuracy: 0.5515\n",
            "Epoch 11/20\n",
            "123/123 - 1s - loss: 0.6618 - accuracy: 0.6013 - val_loss: 0.6793 - val_accuracy: 0.5662\n",
            "Epoch 12/20\n",
            "123/123 - 1s - loss: 0.6598 - accuracy: 0.6038 - val_loss: 0.6786 - val_accuracy: 0.5662\n",
            "Epoch 13/20\n",
            "123/123 - 1s - loss: 0.6569 - accuracy: 0.6005 - val_loss: 0.6750 - val_accuracy: 0.5809\n",
            "Epoch 14/20\n",
            "123/123 - 1s - loss: 0.6553 - accuracy: 0.6160 - val_loss: 0.6728 - val_accuracy: 0.6103\n",
            "Epoch 15/20\n",
            "123/123 - 1s - loss: 0.6528 - accuracy: 0.5997 - val_loss: 0.6816 - val_accuracy: 0.5809\n",
            "Epoch 16/20\n",
            "123/123 - 1s - loss: 0.6521 - accuracy: 0.6103 - val_loss: 0.6669 - val_accuracy: 0.6103\n",
            "Epoch 17/20\n",
            "123/123 - 1s - loss: 0.6479 - accuracy: 0.6217 - val_loss: 0.6651 - val_accuracy: 0.5882\n",
            "Epoch 18/20\n",
            "123/123 - 2s - loss: 0.6495 - accuracy: 0.6144 - val_loss: 0.6636 - val_accuracy: 0.6324\n",
            "Epoch 19/20\n",
            "123/123 - 1s - loss: 0.6503 - accuracy: 0.6046 - val_loss: 0.6591 - val_accuracy: 0.6176\n",
            "Epoch 20/20\n",
            "123/123 - 1s - loss: 0.6589 - accuracy: 0.6095 - val_loss: 0.6715 - val_accuracy: 0.5735\n",
            "Epoch 1/20\n",
            "123/123 - 2s - loss: 0.7137 - accuracy: 0.4828 - val_loss: 0.7028 - val_accuracy: 0.5000\n",
            "Epoch 2/20\n",
            "123/123 - 2s - loss: 0.7086 - accuracy: 0.5098 - val_loss: 0.7063 - val_accuracy: 0.5000\n",
            "Epoch 3/20\n",
            "123/123 - 2s - loss: 0.7038 - accuracy: 0.4788 - val_loss: 0.6980 - val_accuracy: 0.5294\n",
            "Epoch 4/20\n",
            "123/123 - 2s - loss: 0.7031 - accuracy: 0.5204 - val_loss: 0.6946 - val_accuracy: 0.5368\n",
            "Epoch 5/20\n",
            "123/123 - 2s - loss: 0.6973 - accuracy: 0.4755 - val_loss: 0.6932 - val_accuracy: 0.5441\n",
            "Epoch 6/20\n",
            "123/123 - 2s - loss: 0.6950 - accuracy: 0.4861 - val_loss: 0.6923 - val_accuracy: 0.5368\n",
            "Epoch 7/20\n",
            "123/123 - 2s - loss: 0.6958 - accuracy: 0.5286 - val_loss: 0.6945 - val_accuracy: 0.5588\n",
            "Epoch 8/20\n",
            "123/123 - 2s - loss: 0.6924 - accuracy: 0.5155 - val_loss: 0.6900 - val_accuracy: 0.5441\n",
            "Epoch 9/20\n",
            "123/123 - 2s - loss: 0.6930 - accuracy: 0.5123 - val_loss: 0.6924 - val_accuracy: 0.5588\n",
            "Epoch 10/20\n",
            "123/123 - 2s - loss: 0.6934 - accuracy: 0.5033 - val_loss: 0.6899 - val_accuracy: 0.5956\n",
            "Epoch 11/20\n",
            "123/123 - 2s - loss: 0.6924 - accuracy: 0.5294 - val_loss: 0.6926 - val_accuracy: 0.5588\n",
            "Epoch 12/20\n",
            "123/123 - 2s - loss: 0.6918 - accuracy: 0.5278 - val_loss: 0.6900 - val_accuracy: 0.5662\n",
            "Epoch 13/20\n",
            "123/123 - 2s - loss: 0.6924 - accuracy: 0.4992 - val_loss: 0.6895 - val_accuracy: 0.5662\n",
            "Epoch 14/20\n",
            "123/123 - 2s - loss: 0.6915 - accuracy: 0.5327 - val_loss: 0.6904 - val_accuracy: 0.5515\n",
            "Epoch 15/20\n",
            "123/123 - 2s - loss: 0.6923 - accuracy: 0.5196 - val_loss: 0.6922 - val_accuracy: 0.5735\n",
            "Epoch 16/20\n",
            "123/123 - 2s - loss: 0.6915 - accuracy: 0.5016 - val_loss: 0.6872 - val_accuracy: 0.5588\n",
            "Epoch 17/20\n",
            "123/123 - 2s - loss: 0.6914 - accuracy: 0.5139 - val_loss: 0.6905 - val_accuracy: 0.5515\n",
            "Epoch 18/20\n",
            "123/123 - 2s - loss: 0.6913 - accuracy: 0.5335 - val_loss: 0.6895 - val_accuracy: 0.5588\n",
            "Epoch 19/20\n",
            "123/123 - 2s - loss: 0.6912 - accuracy: 0.5131 - val_loss: 0.6882 - val_accuracy: 0.5735\n",
            "Epoch 20/20\n",
            "123/123 - 2s - loss: 0.6912 - accuracy: 0.5237 - val_loss: 0.6900 - val_accuracy: 0.5662\n",
            "Epoch 1/20\n",
            "123/123 - 1s - loss: 0.6875 - accuracy: 0.5139 - val_loss: 0.6881 - val_accuracy: 0.5809\n",
            "Epoch 2/20\n",
            "123/123 - 1s - loss: 0.6865 - accuracy: 0.5645 - val_loss: 0.6900 - val_accuracy: 0.5441\n",
            "Epoch 3/20\n",
            "123/123 - 1s - loss: 0.6853 - accuracy: 0.5449 - val_loss: 0.6848 - val_accuracy: 0.5294\n",
            "Epoch 4/20\n",
            "123/123 - 2s - loss: 0.6847 - accuracy: 0.5498 - val_loss: 0.6883 - val_accuracy: 0.5882\n",
            "Epoch 5/20\n",
            "123/123 - 2s - loss: 0.6846 - accuracy: 0.5490 - val_loss: 0.6861 - val_accuracy: 0.5809\n",
            "Epoch 6/20\n",
            "123/123 - 1s - loss: 0.6831 - accuracy: 0.5613 - val_loss: 0.6849 - val_accuracy: 0.5000\n",
            "Epoch 7/20\n",
            "123/123 - 2s - loss: 0.6827 - accuracy: 0.5588 - val_loss: 0.6848 - val_accuracy: 0.5000\n",
            "Epoch 8/20\n",
            "123/123 - 2s - loss: 0.6813 - accuracy: 0.5670 - val_loss: 0.6857 - val_accuracy: 0.5368\n",
            "Epoch 9/20\n",
            "123/123 - 1s - loss: 0.6821 - accuracy: 0.5449 - val_loss: 0.6853 - val_accuracy: 0.5147\n",
            "Epoch 10/20\n",
            "123/123 - 2s - loss: 0.6815 - accuracy: 0.5670 - val_loss: 0.6854 - val_accuracy: 0.5147\n",
            "Epoch 11/20\n",
            "123/123 - 2s - loss: 0.6794 - accuracy: 0.5703 - val_loss: 0.6873 - val_accuracy: 0.5294\n",
            "Epoch 12/20\n",
            "123/123 - 2s - loss: 0.6796 - accuracy: 0.5523 - val_loss: 0.6855 - val_accuracy: 0.5074\n",
            "Epoch 13/20\n",
            "123/123 - 1s - loss: 0.6794 - accuracy: 0.5801 - val_loss: 0.6864 - val_accuracy: 0.5294\n",
            "Epoch 14/20\n",
            "123/123 - 1s - loss: 0.6782 - accuracy: 0.5556 - val_loss: 0.6868 - val_accuracy: 0.5147\n",
            "Epoch 15/20\n",
            "123/123 - 1s - loss: 0.6776 - accuracy: 0.5670 - val_loss: 0.6859 - val_accuracy: 0.5074\n",
            "Epoch 16/20\n",
            "123/123 - 2s - loss: 0.6788 - accuracy: 0.5719 - val_loss: 0.6883 - val_accuracy: 0.5221\n",
            "Epoch 17/20\n",
            "123/123 - 1s - loss: 0.6801 - accuracy: 0.5392 - val_loss: 0.6883 - val_accuracy: 0.5221\n",
            "Epoch 18/20\n",
            "123/123 - 2s - loss: 0.6781 - accuracy: 0.5833 - val_loss: 0.6891 - val_accuracy: 0.5221\n",
            "Epoch 19/20\n",
            "123/123 - 2s - loss: 0.6791 - accuracy: 0.5523 - val_loss: 0.6883 - val_accuracy: 0.5221\n",
            "Epoch 20/20\n",
            "123/123 - 2s - loss: 0.6794 - accuracy: 0.5752 - val_loss: 0.6864 - val_accuracy: 0.5221\n",
            "Epoch 1/20\n",
            "123/123 - 2s - loss: 0.6927 - accuracy: 0.5637 - val_loss: 0.6924 - val_accuracy: 0.5368\n",
            "Epoch 2/20\n",
            "123/123 - 2s - loss: 0.6912 - accuracy: 0.5531 - val_loss: 0.6949 - val_accuracy: 0.5000\n",
            "Epoch 3/20\n",
            "123/123 - 2s - loss: 0.6929 - accuracy: 0.5515 - val_loss: 0.6885 - val_accuracy: 0.5441\n",
            "Epoch 4/20\n",
            "123/123 - 2s - loss: 0.6893 - accuracy: 0.5425 - val_loss: 0.6951 - val_accuracy: 0.5368\n",
            "Epoch 5/20\n",
            "123/123 - 2s - loss: 0.6889 - accuracy: 0.5588 - val_loss: 0.6869 - val_accuracy: 0.5368\n",
            "Epoch 6/20\n",
            "123/123 - 2s - loss: 0.6896 - accuracy: 0.5613 - val_loss: 0.6912 - val_accuracy: 0.5294\n",
            "Epoch 7/20\n",
            "123/123 - 2s - loss: 0.6862 - accuracy: 0.5637 - val_loss: 0.6858 - val_accuracy: 0.5662\n",
            "Epoch 8/20\n",
            "123/123 - 2s - loss: 0.6855 - accuracy: 0.5670 - val_loss: 0.6877 - val_accuracy: 0.5221\n",
            "Epoch 9/20\n",
            "123/123 - 2s - loss: 0.6863 - accuracy: 0.5498 - val_loss: 0.6901 - val_accuracy: 0.5294\n",
            "Epoch 10/20\n",
            "123/123 - 2s - loss: 0.6851 - accuracy: 0.5776 - val_loss: 0.6868 - val_accuracy: 0.5294\n",
            "Epoch 11/20\n",
            "123/123 - 2s - loss: 0.6849 - accuracy: 0.5752 - val_loss: 0.6865 - val_accuracy: 0.5294\n",
            "Epoch 12/20\n",
            "123/123 - 2s - loss: 0.6856 - accuracy: 0.5776 - val_loss: 0.6857 - val_accuracy: 0.5294\n",
            "Epoch 13/20\n",
            "123/123 - 2s - loss: 0.6851 - accuracy: 0.5727 - val_loss: 0.6882 - val_accuracy: 0.5368\n",
            "Epoch 14/20\n",
            "123/123 - 2s - loss: 0.6847 - accuracy: 0.5588 - val_loss: 0.6863 - val_accuracy: 0.5294\n",
            "Epoch 15/20\n",
            "123/123 - 2s - loss: 0.6845 - accuracy: 0.5792 - val_loss: 0.6861 - val_accuracy: 0.5294\n",
            "Epoch 16/20\n",
            "123/123 - 2s - loss: 0.6844 - accuracy: 0.5686 - val_loss: 0.6867 - val_accuracy: 0.5294\n",
            "Epoch 17/20\n",
            "123/123 - 2s - loss: 0.6845 - accuracy: 0.5621 - val_loss: 0.6868 - val_accuracy: 0.5294\n",
            "Epoch 18/20\n",
            "123/123 - 2s - loss: 0.6841 - accuracy: 0.5891 - val_loss: 0.6854 - val_accuracy: 0.5294\n",
            "Epoch 19/20\n",
            "123/123 - 2s - loss: 0.6842 - accuracy: 0.5833 - val_loss: 0.6858 - val_accuracy: 0.5294\n",
            "Epoch 20/20\n",
            "123/123 - 2s - loss: 0.6839 - accuracy: 0.5629 - val_loss: 0.6892 - val_accuracy: 0.5441\n",
            "Epoch 1/20\n",
            "123/123 - 2s - loss: 0.6684 - accuracy: 0.6176 - val_loss: 0.6438 - val_accuracy: 0.6985\n",
            "Epoch 2/20\n",
            "123/123 - 2s - loss: 0.6636 - accuracy: 0.6291 - val_loss: 0.6502 - val_accuracy: 0.6250\n",
            "Epoch 3/20\n",
            "123/123 - 2s - loss: 0.6629 - accuracy: 0.6348 - val_loss: 0.6387 - val_accuracy: 0.6912\n",
            "Epoch 4/20\n",
            "123/123 - 2s - loss: 0.6627 - accuracy: 0.6446 - val_loss: 0.6406 - val_accuracy: 0.6544\n",
            "Epoch 5/20\n",
            "123/123 - 2s - loss: 0.6636 - accuracy: 0.6275 - val_loss: 0.6373 - val_accuracy: 0.6765\n",
            "Epoch 6/20\n",
            "123/123 - 2s - loss: 0.6608 - accuracy: 0.6373 - val_loss: 0.6370 - val_accuracy: 0.6838\n",
            "Epoch 7/20\n",
            "123/123 - 2s - loss: 0.6615 - accuracy: 0.6356 - val_loss: 0.6354 - val_accuracy: 0.6838\n",
            "Epoch 8/20\n",
            "123/123 - 2s - loss: 0.6610 - accuracy: 0.6430 - val_loss: 0.6343 - val_accuracy: 0.6912\n",
            "Epoch 9/20\n",
            "123/123 - 2s - loss: 0.6608 - accuracy: 0.6413 - val_loss: 0.6392 - val_accuracy: 0.6544\n",
            "Epoch 10/20\n",
            "123/123 - 2s - loss: 0.6607 - accuracy: 0.6348 - val_loss: 0.6361 - val_accuracy: 0.6838\n",
            "Epoch 11/20\n",
            "123/123 - 2s - loss: 0.6604 - accuracy: 0.6422 - val_loss: 0.6348 - val_accuracy: 0.6838\n",
            "Epoch 12/20\n",
            "123/123 - 2s - loss: 0.6612 - accuracy: 0.6315 - val_loss: 0.6380 - val_accuracy: 0.6618\n",
            "Epoch 13/20\n",
            "123/123 - 2s - loss: 0.6593 - accuracy: 0.6381 - val_loss: 0.6320 - val_accuracy: 0.7279\n",
            "Epoch 14/20\n",
            "123/123 - 2s - loss: 0.6605 - accuracy: 0.6364 - val_loss: 0.6356 - val_accuracy: 0.6838\n",
            "Epoch 15/20\n",
            "123/123 - 2s - loss: 0.6606 - accuracy: 0.6422 - val_loss: 0.6348 - val_accuracy: 0.6765\n",
            "Epoch 16/20\n",
            "123/123 - 2s - loss: 0.6583 - accuracy: 0.6356 - val_loss: 0.6357 - val_accuracy: 0.6618\n",
            "Epoch 17/20\n",
            "123/123 - 2s - loss: 0.6598 - accuracy: 0.6422 - val_loss: 0.6310 - val_accuracy: 0.7132\n",
            "Epoch 18/20\n",
            "123/123 - 2s - loss: 0.6616 - accuracy: 0.6144 - val_loss: 0.6393 - val_accuracy: 0.6544\n",
            "Epoch 19/20\n",
            "123/123 - 2s - loss: 0.6620 - accuracy: 0.6422 - val_loss: 0.6304 - val_accuracy: 0.7353\n",
            "Epoch 20/20\n",
            "123/123 - 2s - loss: 0.6598 - accuracy: 0.6291 - val_loss: 0.6437 - val_accuracy: 0.6176\n"
          ],
          "name": "stdout"
        }
      ]
    },
    {
      "cell_type": "code",
      "metadata": {
        "id": "Xzq9hShpU4yI",
        "colab_type": "code",
        "outputId": "d40119c8-4aa0-4b67-9d2e-f2e941de93fe",
        "colab": {
          "base_uri": "https://localhost:8080/",
          "height": 762
        }
      },
      "source": [
        "X, Y, Trials, Flash = prepare_data(test_file)\n",
        "X_clean, y_clean = clean_data(X, Y, Flash)\n",
        "X_train, X_test, y_train, y_test = train_test_split(X_clean, y_clean, test_size=0.1, random_state=816)\n",
        "pred = model.fit(X_train, y_train, batch_size=10, epochs=20)"
      ],
      "execution_count": 115,
      "outputs": [
        {
          "output_type": "stream",
          "text": [
            "Epoch 1/20\n",
            "123/123 [==============================] - 1s 12ms/step - loss: 0.7443 - accuracy: 0.4796\n",
            "Epoch 2/20\n",
            "123/123 [==============================] - 2s 12ms/step - loss: 0.7071 - accuracy: 0.4877\n",
            "Epoch 3/20\n",
            "123/123 [==============================] - 1s 12ms/step - loss: 0.6860 - accuracy: 0.5596\n",
            "Epoch 4/20\n",
            "123/123 [==============================] - 2s 12ms/step - loss: 0.6767 - accuracy: 0.6144\n",
            "Epoch 5/20\n",
            "123/123 [==============================] - 2s 12ms/step - loss: 0.6710 - accuracy: 0.5940\n",
            "Epoch 6/20\n",
            "123/123 [==============================] - 1s 12ms/step - loss: 0.6674 - accuracy: 0.6111\n",
            "Epoch 7/20\n",
            "123/123 [==============================] - 2s 12ms/step - loss: 0.6632 - accuracy: 0.5882\n",
            "Epoch 8/20\n",
            "123/123 [==============================] - 2s 12ms/step - loss: 0.6578 - accuracy: 0.6160\n",
            "Epoch 9/20\n",
            "123/123 [==============================] - 1s 12ms/step - loss: 0.6463 - accuracy: 0.6185\n",
            "Epoch 10/20\n",
            "123/123 [==============================] - 2s 12ms/step - loss: 0.6364 - accuracy: 0.6634\n",
            "Epoch 11/20\n",
            "123/123 [==============================] - 2s 12ms/step - loss: 0.6212 - accuracy: 0.6920\n",
            "Epoch 12/20\n",
            "123/123 [==============================] - 2s 12ms/step - loss: 0.5988 - accuracy: 0.6977\n",
            "Epoch 13/20\n",
            "123/123 [==============================] - 2s 12ms/step - loss: 0.5757 - accuracy: 0.7328\n",
            "Epoch 14/20\n",
            "123/123 [==============================] - 2s 12ms/step - loss: 0.5634 - accuracy: 0.7279\n",
            "Epoch 15/20\n",
            "123/123 [==============================] - 2s 12ms/step - loss: 0.5616 - accuracy: 0.7149\n",
            "Epoch 16/20\n",
            "123/123 [==============================] - 2s 12ms/step - loss: 0.5552 - accuracy: 0.7288\n",
            "Epoch 17/20\n",
            "123/123 [==============================] - 2s 12ms/step - loss: 0.5257 - accuracy: 0.7623\n",
            "Epoch 18/20\n",
            "123/123 [==============================] - 2s 12ms/step - loss: 0.5129 - accuracy: 0.7794\n",
            "Epoch 19/20\n",
            "123/123 [==============================] - 2s 12ms/step - loss: 0.5155 - accuracy: 0.7712\n",
            "Epoch 20/20\n",
            "123/123 [==============================] - 2s 12ms/step - loss: 0.5085 - accuracy: 0.7819\n"
          ],
          "name": "stdout"
        }
      ]
    },
    {
      "cell_type": "code",
      "metadata": {
        "id": "HOLJ_MP5V3Bd",
        "colab_type": "code",
        "outputId": "63f97a92-4e05-4803-bd33-129c080ac7ae",
        "colab": {
          "base_uri": "https://localhost:8080/",
          "height": 36
        }
      },
      "source": [
        "score = model.evaluate(X_test, y_test)"
      ],
      "execution_count": 116,
      "outputs": [
        {
          "output_type": "stream",
          "text": [
            "5/5 [==============================] - 0s 7ms/step - loss: 0.5644 - accuracy: 0.7059\n"
          ],
          "name": "stdout"
        }
      ]
    },
    {
      "cell_type": "code",
      "metadata": {
        "id": "rFe0_IjBZXzR",
        "colab_type": "code",
        "colab": {}
      },
      "source": [
        "preds = model.predict(X_test)"
      ],
      "execution_count": 0,
      "outputs": []
    },
    {
      "cell_type": "code",
      "metadata": {
        "id": "iNS7uYNfd2qb",
        "colab_type": "code",
        "colab": {}
      },
      "source": [
        "from sklearn.metrics import confusion_matrix\n",
        "\n",
        "matrix = confusion_matrix(y_test.argmax(axis=1), preds.argmax(axis=1))"
      ],
      "execution_count": 0,
      "outputs": []
    },
    {
      "cell_type": "code",
      "metadata": {
        "id": "-JE-9G3ReFsh",
        "colab_type": "code",
        "colab": {}
      },
      "source": [
        "matrix_norm = np.zeros((2,2))\n",
        "for i in range(2):\n",
        "  matrix_norm[i] = matrix[i]/matrix[i].sum(axis=0)"
      ],
      "execution_count": 0,
      "outputs": []
    },
    {
      "cell_type": "code",
      "metadata": {
        "id": "45hXrN4HeJka",
        "colab_type": "code",
        "outputId": "4705430a-6823-4f4b-b8a9-ca13f9a23aff",
        "colab": {
          "base_uri": "https://localhost:8080/",
          "height": 477
        }
      },
      "source": [
        "import seaborn as sns\n",
        "df_cm = pd.DataFrame(matrix_norm, columns=np.unique(y_test), index = np.unique(y_test))\n",
        "df_cm.index.name = 'Actual'\n",
        "df_cm.columns.name = 'Predicted'\n",
        "plt.figure(figsize = (10,7))\n",
        "sns.set(font_scale=1.4)#for label size\n",
        "sns.heatmap(df_cm, cmap=\"Blues\", annot=True,annot_kws={\"size\": 16})# font size"
      ],
      "execution_count": 120,
      "outputs": [
        {
          "output_type": "execute_result",
          "data": {
            "text/plain": [
              "<matplotlib.axes._subplots.AxesSubplot at 0x7f848d0e3e80>"
            ]
          },
          "metadata": {
            "tags": []
          },
          "execution_count": 120
        },
        {
          "output_type": "display_data",
          "data": {
            "image/png": "[encoded data removed]",
            "text/plain": [
              "<Figure size 720x504 with 2 Axes>"
            ]
          },
          "metadata": {
            "tags": []
          }
        }
      ]
    },
    {
      "cell_type": "code",
      "metadata": {
        "id": "9cSpTSaHfKx4",
        "colab_type": "code",
        "colab": {}
      },
      "source": [
        ""
      ],
      "execution_count": 0,
      "outputs": []
    }
  ]
}