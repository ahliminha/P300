{
  "nbformat": 4,
  "nbformat_minor": 0,
  "metadata": {
    "colab": {
      "name": "P300.ipynb",
      "provenance": [],
      "collapsed_sections": [],
      "machine_shape": "hm",
      "include_colab_link": true
    },
    "kernelspec": {
      "name": "python3",
      "display_name": "Python 3"
    }
  },
  "cells": [
    {
      "cell_type": "markdown",
      "metadata": {
        "id": "view-in-github",
        "colab_type": "text"
      },
      "source": [
        "<a href=\"https://colab.research.google.com/github/ahliminha/P300/blob/master/P300.ipynb\" target=\"_parent\"><img src=\"https://colab.research.google.com/assets/colab-badge.svg\" alt=\"Open In Colab\"/></a>"
      ]
    },
    {
      "cell_type": "code",
      "metadata": {
        "id": "XbWOxk2p8oao",
        "colab_type": "code",
        "outputId": "f8fdbc99-1c49-4bb3-df49-f66d5c8b9783",
        "colab": {
          "base_uri": "https://localhost:8080/",
          "height": 36
        }
      },
      "source": [
        "!pip3 install mat4py"
      ],
      "execution_count": 29,
      "outputs": [
        {
          "output_type": "stream",
          "text": [
            "Requirement already satisfied: mat4py in /usr/local/lib/python3.6/dist-packages (0.4.3)\n"
          ],
          "name": "stdout"
        }
      ]
    },
    {
      "cell_type": "code",
      "metadata": {
        "id": "_lCmbMGYQtcd",
        "colab_type": "code",
        "outputId": "19d24a07-1cbe-4f3d-e4dc-64392908a5b6",
        "colab": {
          "base_uri": "https://localhost:8080/",
          "height": 36
        }
      },
      "source": [
        "from google.colab import drive\n",
        "drive.mount('/content/drive')"
      ],
      "execution_count": 30,
      "outputs": [
        {
          "output_type": "stream",
          "text": [
            "Drive already mounted at /content/drive; to attempt to forcibly remount, call drive.mount(\"/content/drive\", force_remount=True).\n"
          ],
          "name": "stdout"
        }
      ]
    },
    {
      "cell_type": "code",
      "metadata": {
        "id": "T_UpFDN59K9E",
        "colab_type": "code",
        "colab": {}
      },
      "source": [
        "import sklearn as sk\n",
        "import pandas as pd\n",
        "import numpy as np\n",
        "import matplotlib.pyplot as plt \n",
        "import scipy.io as sio\n",
        "from mat4py import loadmat \n",
        "from keras.utils import to_categorical\n",
        "np.random.seed(816)"
      ],
      "execution_count": 0,
      "outputs": []
    },
    {
      "cell_type": "code",
      "metadata": {
        "id": "L6ykl3cYdv-K",
        "colab_type": "code",
        "colab": {}
      },
      "source": [
        "import glob"
      ],
      "execution_count": 0,
      "outputs": []
    },
    {
      "cell_type": "code",
      "metadata": {
        "id": "22_XYGiufvOH",
        "colab_type": "code",
        "colab": {}
      },
      "source": [
        "folder = '/content/drive/My Drive/IC/*.mat'\n",
        "files = glob.glob(folder)\n",
        "files.pop(0) #drop the data badly structured\n",
        "test_file = files.pop(0) #last subject for testing the network"
      ],
      "execution_count": 0,
      "outputs": []
    },
    {
      "cell_type": "code",
      "metadata": {
        "id": "9AVdG8lY171G",
        "colab_type": "code",
        "outputId": "cdf2660d-03de-4640-c70a-449d2cf6e1db",
        "colab": {
          "base_uri": "https://localhost:8080/",
          "height": 36
        }
      },
      "source": [
        "print(files)"
      ],
      "execution_count": 34,
      "outputs": [
        {
          "output_type": "stream",
          "text": [
            "['/content/drive/My Drive/IC/P300S03.mat', '/content/drive/My Drive/IC/P300S04.mat', '/content/drive/My Drive/IC/P300S05.mat', '/content/drive/My Drive/IC/P300S06.mat', '/content/drive/My Drive/IC/P300S07.mat', '/content/drive/My Drive/IC/P300S08.mat']\n"
          ],
          "name": "stdout"
        }
      ]
    },
    {
      "cell_type": "code",
      "metadata": {
        "id": "uWlYJ89j6qEO",
        "colab_type": "code",
        "colab": {}
      },
      "source": [
        "from scipy.signal import butter, lfilter, freqz\n",
        "\n",
        "def butter_lowpass(cutoff, fs, order=5):\n",
        "    nyq = 0.5 * fs\n",
        "    normal_cutoff = cutoff / nyq\n",
        "    b, a = butter(order, normal_cutoff, btype='low', analog=False)\n",
        "    return b, a\n",
        "\n",
        "def butter_lowpass_filter(data, cutoff, fs, order=5):\n",
        "    b, a = butter_lowpass(cutoff, fs, order=order)\n",
        "    y = lfilter(b, a, data)\n",
        "    return y\n",
        "\n",
        "\n",
        "# Filter requirements.\n",
        "order = 6\n",
        "fs = 24.0       # sample rate, Hz\n",
        "cutoff = 1.5  # desired cutoff frequency of the filter, Hz\n",
        "\n",
        "# Get the filter coefficients so we can check its frequency response.\n",
        "b, a = butter_lowpass(cutoff, fs, order)"
      ],
      "execution_count": 0,
      "outputs": []
    },
    {
      "cell_type": "code",
      "metadata": {
        "id": "JqXJ_anMgpV4",
        "colab_type": "code",
        "colab": {}
      },
      "source": [
        "def prepare_data(file):\n",
        "  allX = []\n",
        "  allY = []\n",
        "  allT = []\n",
        "  allF = []\n",
        "  raw_data = loadmat(file)\n",
        "  useful_data = raw_data['data'].copy()\n",
        "  X = useful_data['X']\n",
        "  Y = useful_data['y']\n",
        "  T = useful_data['trial']\n",
        "  F = useful_data['flash']\n",
        "  X_mean = np.mean(X, axis=1)\n",
        "  X_filtered = butter_lowpass_filter(X_mean, cutoff, fs, order)\n",
        "  \n",
        "  return X_filtered, Y, T, F"
      ],
      "execution_count": 0,
      "outputs": []
    },
    {
      "cell_type": "code",
      "metadata": {
        "id": "6vP5HdmNvvy1",
        "colab_type": "code",
        "colab": {}
      },
      "source": [
        "def normalized(vec):\n",
        "  norm_vec = (vec - vec.min(axis=1, keepdims=True))/vec.ptp(axis=1, keepdims=True)\n",
        "  return norm_vec"
      ],
      "execution_count": 0,
      "outputs": []
    },
    {
      "cell_type": "code",
      "metadata": {
        "id": "hHhnXB_Xo036",
        "colab_type": "code",
        "colab": {}
      },
      "source": [
        "def clean_data(X, Y, flash):\n",
        "  \n",
        "  X_samples = np.array([np.array(X[i[0]:i[0]+300]) for i in flash] )\n",
        "  column    = [i[2] for i in flash]\n",
        "  label     = [i[3] - 1 for i in flash]\n",
        "  \n",
        "  LIMIT = 4080 #the last trial is incomplete\n",
        "  X_selected = np.array(X_samples[:LIMIT])\n",
        "  col_selected = np.array(column[:LIMIT])\n",
        "  label_selected = np.array(label[:LIMIT])\n",
        "\n",
        "  y = np.array(to_categorical(label_selected))\n",
        "\n",
        "  false_idx = [k for k, i in enumerate(y) if i[0] == 1]\n",
        "  true_idx  = [k for k, i in enumerate(y) if i[0] == 0]\n",
        "\n",
        "  falseX = X_selected[false_idx]\n",
        "  falsey = y[false_idx]\n",
        "\n",
        "  trueX  = X_selected[true_idx]  \n",
        "  truey  = y[true_idx]\n",
        "  # proportional data to avoid greedy cost funtion\n",
        "\n",
        "  proportionalX = falseX[:int(len(trueX))]\n",
        "  proportionaly = falsey[:int(len(truey))]\n",
        "\n",
        "  finalX = np.concatenate((trueX, proportionalX))\n",
        "  finaly = np.concatenate((truey, proportionaly))\n",
        "\n",
        "  X_timeseries = np.vstack(finalX)\n",
        "  X_letters = X_timeseries.reshape(34,40,300,1)\n",
        "  y_letters = finaly.reshape(34,40,2)\n",
        "  cleaned_X = np.vstack(X_letters)\n",
        "  cleaned_Y = np.vstack(y_letters)\n",
        "  \n",
        "  return cleaned_X, cleaned_Y"
      ],
      "execution_count": 0,
      "outputs": []
    },
    {
      "cell_type": "code",
      "metadata": {
        "id": "EnJ18aGK4S9y",
        "colab_type": "code",
        "outputId": "3e4be4ae-238e-45dd-e991-9927296c9e25",
        "colab": {
          "base_uri": "https://localhost:8080/",
          "height": 389
        }
      },
      "source": [
        "import tensorflow as tf\n",
        "\n",
        "from tensorflow import keras\n",
        "tf.keras.backend.clear_session()  # For easy reset of notebook state.\n",
        "\n",
        "from tensorflow.keras import layers\n",
        "\n",
        "input_layer = keras.Input(shape = (300), name='main_input')\n",
        "#lstm  = layers.Bidirectional(layers.LSTM(64, return_sequences=True))\n",
        "#lstm1 = lstm(input_layer)\n",
        "x     = layers.Dense(16, activation='relu')(input_layer)\n",
        "x     = layers.Dense(8, activation='relu')(x)\n",
        "x     = layers.Dense(8, activation='relu')(x)\n",
        "x     = layers.Dense(4, activation='relu')(x)\n",
        "output = layers.Dense(2, activation='softmax')(x)\n",
        "\n",
        "model = keras.Model(inputs=input_layer, outputs=output)\n",
        "\n",
        "model.summary()"
      ],
      "execution_count": 42,
      "outputs": [
        {
          "output_type": "stream",
          "text": [
            "Model: \"model\"\n",
            "_________________________________________________________________\n",
            "Layer (type)                 Output Shape              Param #   \n",
            "=================================================================\n",
            "main_input (InputLayer)      [(None, 300)]             0         \n",
            "_________________________________________________________________\n",
            "dense (Dense)                (None, 16)                4816      \n",
            "_________________________________________________________________\n",
            "dense_1 (Dense)              (None, 8)                 136       \n",
            "_________________________________________________________________\n",
            "dense_2 (Dense)              (None, 8)                 72        \n",
            "_________________________________________________________________\n",
            "dense_3 (Dense)              (None, 4)                 36        \n",
            "_________________________________________________________________\n",
            "dense_4 (Dense)              (None, 2)                 10        \n",
            "=================================================================\n",
            "Total params: 5,070\n",
            "Trainable params: 5,070\n",
            "Non-trainable params: 0\n",
            "_________________________________________________________________\n"
          ],
          "name": "stdout"
        }
      ]
    },
    {
      "cell_type": "code",
      "metadata": {
        "id": "kIkzpSI14cMV",
        "colab_type": "code",
        "colab": {}
      },
      "source": [
        "#compiling the model\n",
        "opt = keras.optimizers.Adam(lr=0.01, beta_1=0.9, beta_2=0.9, amsgrad=True)\n",
        "model.compile(optimizer=opt,\n",
        "              loss='binary_crossentropy',\n",
        "              metrics=['accuracy'])\n",
        "\n"
      ],
      "execution_count": 0,
      "outputs": []
    },
    {
      "cell_type": "code",
      "metadata": {
        "id": "iUJPHSyp3sl3",
        "colab_type": "code",
        "colab": {}
      },
      "source": [
        "from sklearn.model_selection import train_test_split\n",
        "for file in files:\n",
        "  X, Y, Trials, Flash = prepare_data(file)\n",
        "  X_clean, y_clean = clean_data(X, Y, Flash)\n",
        "  X_train, X_valid, y_train, y_valid = train_test_split(X_clean, y_clean, test_size=0.1, random_state=816)\n",
        "  history = model.fit(X_train, y_train, validation_data=(X_valid, y_valid), batch_size=20, epochs=20, verbose=0)\n",
        "  "
      ],
      "execution_count": 0,
      "outputs": []
    },
    {
      "cell_type": "code",
      "metadata": {
        "id": "Xzq9hShpU4yI",
        "colab_type": "code",
        "outputId": "d3278400-d31e-4e43-e31c-3a384033e067",
        "colab": {
          "base_uri": "https://localhost:8080/",
          "height": 762
        }
      },
      "source": [
        "X, Y, Trials, Flash = prepare_data(test_file)\n",
        "X_clean, y_clean = clean_data(X, Y, Flash)\n",
        "X_train, X_test, y_train, y_test = train_test_split(X_clean, y_clean, test_size=0.1, random_state=816)\n",
        "pred = model.fit(X_train, y_train, batch_size=10, epochs=20)"
      ],
      "execution_count": 63,
      "outputs": [
        {
          "output_type": "stream",
          "text": [
            "Epoch 1/20\n",
            "123/123 [==============================] - 0s 1ms/step - loss: 0.5737 - accuracy: 0.6520\n",
            "Epoch 2/20\n",
            "123/123 [==============================] - 0s 1ms/step - loss: 0.5507 - accuracy: 0.6601\n",
            "Epoch 3/20\n",
            "123/123 [==============================] - 0s 1ms/step - loss: 0.5550 - accuracy: 0.6601\n",
            "Epoch 4/20\n",
            "123/123 [==============================] - 0s 1ms/step - loss: 0.5397 - accuracy: 0.6683\n",
            "Epoch 5/20\n",
            "123/123 [==============================] - 0s 1ms/step - loss: 0.5313 - accuracy: 0.6683\n",
            "Epoch 6/20\n",
            "123/123 [==============================] - 0s 1ms/step - loss: 0.5265 - accuracy: 0.6740\n",
            "Epoch 7/20\n",
            "123/123 [==============================] - 0s 1ms/step - loss: 0.5303 - accuracy: 0.6716\n",
            "Epoch 8/20\n",
            "123/123 [==============================] - 0s 1ms/step - loss: 0.5196 - accuracy: 0.6797\n",
            "Epoch 9/20\n",
            "123/123 [==============================] - 0s 1ms/step - loss: 0.5164 - accuracy: 0.6789\n",
            "Epoch 10/20\n",
            "123/123 [==============================] - 0s 1ms/step - loss: 0.5371 - accuracy: 0.6658\n",
            "Epoch 11/20\n",
            "123/123 [==============================] - 0s 1ms/step - loss: 0.5320 - accuracy: 0.6708\n",
            "Epoch 12/20\n",
            "123/123 [==============================] - 0s 1ms/step - loss: 0.5373 - accuracy: 0.6724\n",
            "Epoch 13/20\n",
            "123/123 [==============================] - 0s 1ms/step - loss: 0.5369 - accuracy: 0.6699\n",
            "Epoch 14/20\n",
            "123/123 [==============================] - 0s 1ms/step - loss: 0.5370 - accuracy: 0.6675\n",
            "Epoch 15/20\n",
            "123/123 [==============================] - 0s 1ms/step - loss: 0.5246 - accuracy: 0.6797\n",
            "Epoch 16/20\n",
            "123/123 [==============================] - 0s 1ms/step - loss: 0.5219 - accuracy: 0.6781\n",
            "Epoch 17/20\n",
            "123/123 [==============================] - 0s 1ms/step - loss: 0.5167 - accuracy: 0.6846\n",
            "Epoch 18/20\n",
            "123/123 [==============================] - 0s 1ms/step - loss: 0.5150 - accuracy: 0.6912\n",
            "Epoch 19/20\n",
            "123/123 [==============================] - 0s 1ms/step - loss: 0.5072 - accuracy: 0.6879\n",
            "Epoch 20/20\n",
            "123/123 [==============================] - 0s 1ms/step - loss: 0.5037 - accuracy: 0.6920\n"
          ],
          "name": "stdout"
        }
      ]
    },
    {
      "cell_type": "code",
      "metadata": {
        "id": "HOLJ_MP5V3Bd",
        "colab_type": "code",
        "outputId": "516ac9e0-ee15-49a1-ac13-eae845b3eb2a",
        "colab": {
          "base_uri": "https://localhost:8080/",
          "height": 36
        }
      },
      "source": [
        "score = model.evaluate(X_test, y_test)"
      ],
      "execution_count": 64,
      "outputs": [
        {
          "output_type": "stream",
          "text": [
            "5/5 [==============================] - 0s 1ms/step - loss: 0.8902 - accuracy: 0.6250\n"
          ],
          "name": "stdout"
        }
      ]
    },
    {
      "cell_type": "code",
      "metadata": {
        "id": "rFe0_IjBZXzR",
        "colab_type": "code",
        "colab": {}
      },
      "source": [
        "preds = model.predict(X_test)"
      ],
      "execution_count": 0,
      "outputs": []
    },
    {
      "cell_type": "code",
      "metadata": {
        "id": "iNS7uYNfd2qb",
        "colab_type": "code",
        "colab": {}
      },
      "source": [
        "from sklearn.metrics import confusion_matrix\n",
        "\n",
        "matrix = confusion_matrix(y_test.argmax(axis=1), preds.argmax(axis=1))"
      ],
      "execution_count": 0,
      "outputs": []
    },
    {
      "cell_type": "code",
      "metadata": {
        "id": "-JE-9G3ReFsh",
        "colab_type": "code",
        "colab": {}
      },
      "source": [
        "matrix_norm = np.zeros((2,2))\n",
        "for i in range(2):\n",
        "  matrix_norm[i] = matrix[i]/matrix[i].sum(axis=0)"
      ],
      "execution_count": 0,
      "outputs": []
    },
    {
      "cell_type": "code",
      "metadata": {
        "id": "45hXrN4HeJka",
        "colab_type": "code",
        "outputId": "4e8d521d-20a6-4fbd-f2fa-97fe270f8907",
        "colab": {
          "base_uri": "https://localhost:8080/",
          "height": 477
        }
      },
      "source": [
        "import seaborn as sns\n",
        "df_cm = pd.DataFrame(matrix_norm, columns=np.unique(y_test), index = np.unique(y_test))\n",
        "df_cm.index.name = 'Actual'\n",
        "df_cm.columns.name = 'Predicted'\n",
        "plt.figure(figsize = (10,7))\n",
        "sns.set(font_scale=1.4)#for label size\n",
        "sns.heatmap(df_cm, cmap=\"Blues\", annot=True,annot_kws={\"size\": 16})# font size"
      ],
      "execution_count": 68,
      "outputs": [
        {
          "output_type": "execute_result",
          "data": {
            "text/plain": [
              "<matplotlib.axes._subplots.AxesSubplot at 0x7f848e4b9240>"
            ]
          },
          "metadata": {
            "tags": []
          },
          "execution_count": 68
        },
        {
          "output_type": "display_data",
          "data": {
            "image/png": "[encoded data removed]",
            "text/plain": [
              "<Figure size 720x504 with 2 Axes>"
            ]
          },
          "metadata": {
            "tags": []
          }
        }
      ]
    },
    {
      "cell_type": "code",
      "metadata": {
        "id": "9cSpTSaHfKx4",
        "colab_type": "code",
        "colab": {}
      },
      "source": [
        ""
      ],
      "execution_count": 0,
      "outputs": []
    }
  ]
}